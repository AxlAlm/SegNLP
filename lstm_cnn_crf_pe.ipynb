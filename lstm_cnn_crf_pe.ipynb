{
 "cells": [
  {
   "cell_type": "code",
   "execution_count": null,
   "metadata": {},
   "outputs": [],
   "source": [
    "\n",
    "from segnlp import Pipeline\n",
    "from segnlp.datasets.am import PE\n",
    "from segnlp.pretrained_features import GloveEmbeddings\n"
   ]
  },
  {
   "cell_type": "code",
   "execution_count": null,
   "metadata": {},
   "outputs": [],
   "source": [
    "\n",
    "exp = Pipeline(\n",
    "                id=\"pe_lstm_cnn_crf\",\n",
    "                dataset=PE( \n",
    "                            tasks=[\"seg+label+link+link_label\"],\n",
    "                            prediction_level=\"token\",\n",
    "                            sample_level=\"document\",\n",
    "                            ),\n",
    "                model = \"LSTM_CNN_CRF\",\n",
    "                metric = \"overlap_metric\",\n",
    "            )\n"
   ]
  },
  {
   "cell_type": "code",
   "execution_count": null,
   "metadata": {},
   "outputs": [],
   "source": [
    "import gensim.downloader as api\n",
    "\n",
    "\n",
    "hps = {\n",
    "        \"general\":{\n",
    "                \"optimizer\": {\n",
    "                        \n",
    "                                \"name\":\"Adadelta\",\n",
    "                                \"lr\": 0.01,\n",
    "                                \"weight_decay\": 0.05\n",
    "                                },\n",
    "                \"batch_size\": 10,\n",
    "                \"max_epochs\":1000,\n",
    "                \"patience\": 5,\n",
    "                \"gradient_clip_val\": 5.0\n",
    "                },\n",
    "        \"dropout\": {\n",
    "                        \"p\":0.5\n",
    "                },\n",
    "        \"word_embs\": {\n",
    "                        \"vocab\": \"BNC_10k\",\n",
    "                        \"path_to_pretrained\" : api.load(\"glove-wiki-gigaword-50\", return_path=True)\n",
    "                        },\n",
    "        \"CharEmb\": {  \n",
    "                    \"emb_size\": 30,\n",
    "                    \"n_filters\": 50,\n",
    "                    \"kernel_size\": 3,\n",
    "                    \"dropout\": 0.5\n",
    "                    },\n",
    "        \"LSTM\": {  \n",
    "                    \"dropout\": 0.5,\n",
    "                    \"hidden_size\": 100,\n",
    "                    \"num_layers\":1,\n",
    "                    \"bidir\":True,\n",
    "                    \"weight_init\": \"xavier_uniform_\" # glorot\n",
    "                    },\n",
    "        \"CRF\": {\n",
    "                \"dropout\": 0.5,\n",
    "                }\n",
    "        }\n"
   ]
  },
  {
   "cell_type": "code",
   "execution_count": null,
   "metadata": {},
   "outputs": [],
   "source": [
    "best_hp = exp.train(\n",
    "                        hyperparamaters = hps,\n",
    "                        n_random_seeds=1,\n",
    "                        monitor_metric=\"val_f1-0.5-micro\"\n",
    "                        )"
   ]
  }
 ],
 "metadata": {
  "kernelspec": {
   "display_name": "Python 3.7.4 64-bit ('segnlp': conda)",
   "name": "python374jvsc74a57bd0a76bc8531fef674196aa7aad9134f25b0cc59176f1f31a4f40d52a7ed7b4acca"
  },
  "language_info": {
   "name": "python",
   "version": ""
  },
  "metadata": {
   "interpreter": {
    "hash": "a76bc8531fef674196aa7aad9134f25b0cc59176f1f31a4f40d52a7ed7b4acca"
   }
  },
  "orig_nbformat": 2
 },
 "nbformat": 4,
 "nbformat_minor": 2
}