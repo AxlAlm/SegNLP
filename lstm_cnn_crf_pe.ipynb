{
 "cells": [
  {
   "cell_type": "code",
   "execution_count": null,
   "metadata": {},
   "outputs": [],
   "source": [
    "\n",
    "from segnlp import Pipeline\n",
    "from segnlp.datasets.am import PE\n",
    "from segnlp.pretrained_features import GloveEmbeddings\n"
   ]
  },
  {
   "cell_type": "code",
   "execution_count": null,
   "metadata": {},
   "outputs": [],
   "source": [
    "\n",
    "exp = Pipeline(\n",
    "                id=\"pe_lstm_cnn_crf\",\n",
    "                dataset=PE( \n",
    "                            tasks=[\"seg+label+link+link_label\"],\n",
    "                            prediction_level=\"token\",\n",
    "                            sample_level=\"document\",\n",
    "                            ),\n",
    "                pretrained_features =[\n",
    "                            GloveEmbeddings(),\n",
    "                            ],\n",
    "                model = \"LSTM_CNN_CRF\",\n",
    "                metric = \"overlap_metric\",\n",
    "            )\n"
   ]
  },
  {
   "cell_type": "code",
   "execution_count": null,
   "metadata": {},
   "outputs": [],
   "source": [
    "hps = {\n",
    "        \"general\":{\n",
    "                \"optimizer\": \"SGD\",\n",
    "                \"lr\": 0.1,\n",
    "                \"batch_size\": 10,\n",
    "                \"max_epochs\":200,\n",
    "                \"patience\": 5,\n",
    "                },\n",
    "        \"CharEmb\": {  \n",
    "                    \"emb_size\": 30,\n",
    "                    \"n_filters\": 20,\n",
    "                    \"kernel_size\": 3,\n",
    "                    },\n",
    "        \"LSTM\": {  \n",
    "                    \"dropout\":0.5,\n",
    "                    \"hidden_size\": 150,\n",
    "                    \"num_layers\":1,\n",
    "                    \"bidir\":True,\n",
    "                    },\n",
    "        \"CRF\": {\n",
    "                \"dropout\": 0.5,\n",
    "                }\n",
    "        }\n"
   ]
  },
  {
   "cell_type": "code",
   "execution_count": null,
   "metadata": {},
   "outputs": [],
   "source": [
    "best_hp = exp.train(\n",
    "                        hyperparamaters = hps,\n",
    "                        n_random_seeds=1,\n",
    "                        monitor_metric=\"val_f1-0.5-micro\"\n",
    "                        )"
   ]
  }
 ],
 "metadata": {
  "kernelspec": {
   "display_name": "Python 3.7.4 64-bit ('segnlp': conda)",
   "name": "python374jvsc74a57bd0a76bc8531fef674196aa7aad9134f25b0cc59176f1f31a4f40d52a7ed7b4acca"
  },
  "language_info": {
   "name": "python",
   "version": ""
  },
  "metadata": {
   "interpreter": {
    "hash": "a76bc8531fef674196aa7aad9134f25b0cc59176f1f31a4f40d52a7ed7b4acca"
   }
  },
  "orig_nbformat": 2
 },
 "nbformat": 4,
 "nbformat_minor": 2
}