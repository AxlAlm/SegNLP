{
 "cells": [
  {
   "cell_type": "code",
   "execution_count": null,
   "metadata": {},
   "outputs": [],
   "source": [
    "from segnlp import Pipeline\n",
    "from segnlp.datasets.am import PE\n",
    "from segnlp.models import JointPN\n",
    "from segnlp.pretrained_features import GloveEmbeddings\n",
    "from segnlp.resources.vocab import bnc_vocab"
   ]
  },
  {
   "cell_type": "code",
   "execution_count": null,
   "metadata": {},
   "outputs": [],
   "source": [
    "exp = Pipeline(\n",
    "                id=\"jp_pe\",\n",
    "                dataset=PE( \n",
    "                            tasks=[\"label\", \"link\"],\n",
    "                            prediction_level=\"seg\",\n",
    "                            sample_level=\"paragraph\",\n",
    "                            ),\n",
    "                model = JointPN,\n",
    "                metric = \"default_segment_metric\",\n",
    "                pretrained_features =[\n",
    "                                        GloveEmbeddings(),\n",
    "                                        ],\n",
    "                #overwrite = True\n",
    "            )"
   ]
  },
  {
   "cell_type": "code",
   "execution_count": null,
   "metadata": {},
   "outputs": [],
   "source": [
    "\n",
    "hps = {\n",
    "        \"general\":{\n",
    "                \"optimizer\": \"Adam\",\n",
    "                \"lr\": 0.001,\n",
    "                \"batch_size\": 16,\n",
    "                \"max_epochs\":4000,\n",
    "                \"patience\": 15,\n",
    "                \"task_weight\": 0.5,\n",
    "                },\n",
    "        \"agg\":{\n",
    "                \"mode\":\"mix\",\n",
    "                },\n",
    "        \"seg_bow\":{\n",
    "                \"vocab\": \"BNC_10k\",\n",
    "                \"mode\": \"counts\"\n",
    "                },\n",
    "        \"linear_fc\": {\n",
    "                \"hidden_size\": 512,\n",
    "                \"activation\": \"Sigmoid\"\n",
    "                },\n",
    "        \"lstm_encoder\": {  \n",
    "                    \"dropout\":0.9,\n",
    "                    \"hidden_size\": 256,\n",
    "                    \"num_layers\":1,\n",
    "                    \"bidir\":True,\n",
    "                    },\n",
    "        \"lstm_decoder\": {  \n",
    "                    \"dropout\":0.9,\n",
    "                    \"hidden_size\": 512,\n",
    "                    \"num_layers\":1,\n",
    "                    \"bidir\":False,\n",
    "\n",
    "                    },\n",
    "        \"Pointer\": {}\n",
    "        }"
   ]
  },
  {
   "cell_type": "code",
   "execution_count": null,
   "metadata": {},
   "outputs": [],
   "source": [
    "exp.train(\n",
    "            hyperparamaters = hps,\n",
    "            n_random_seeds=6,\n",
    "            monitor_metric=\"link-f1\",\n",
    "            #gpus = [1]\n",
    "            )\n"
   ]
  }
 ],
 "metadata": {
  "kernelspec": {
   "display_name": "Python 3.7.4 64-bit ('segnlp': conda)",
   "name": "python374jvsc74a57bd0a76bc8531fef674196aa7aad9134f25b0cc59176f1f31a4f40d52a7ed7b4acca"
  },
  "language_info": {
   "name": "python",
   "version": ""
  },
  "metadata": {
   "interpreter": {
    "hash": "a76bc8531fef674196aa7aad9134f25b0cc59176f1f31a4f40d52a7ed7b4acca"
   }
  },
  "orig_nbformat": 2
 },
 "nbformat": 4,
 "nbformat_minor": 2
}