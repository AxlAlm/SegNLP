{
 "cells": [
  {
   "cell_type": "code",
   "execution_count": 1,
   "metadata": {},
   "outputs": [
    {
     "name": "stderr",
     "output_type": "stream",
     "text": [
      "Using backend: pytorch\n"
     ]
    }
   ],
   "source": [
    "from segnlp import Pipeline\n",
    "from segnlp.datasets.am import PE\n",
    "from segnlp.pretrained_features import GloveEmbeddings"
   ]
  },
  {
   "cell_type": "code",
   "execution_count": 2,
   "metadata": {
    "scrolled": true
   },
   "outputs": [
    {
     "name": "stdout",
     "output_type": "stream",
     "text": [
      "{'label': {'MajorClaim': 0, 'Claim': 1, 'Premise': 2}}\n",
      "   label-0-precision  label-0-recall  label-0-f1  label-1-precision  \\\n",
      "0                0.0             0.0         0.0                0.0   \n",
      "1                0.0             0.0         0.0                0.0   \n",
      "2                0.0             0.0         0.0                0.0   \n",
      "3                0.0             0.0         0.0                0.0   \n",
      "4                0.0             0.0         0.0                0.0   \n",
      "5                0.0             0.0         0.0                0.0   \n",
      "\n",
      "   label-1-recall  label-1-f1  label-2-precision  label-2-recall  label-2-f1  \\\n",
      "0             0.0         0.0           0.599509             1.0    0.749616   \n",
      "1             0.0         0.0           0.599509             1.0    0.749616   \n",
      "2             0.0         0.0           0.599509             1.0    0.749616   \n",
      "3             0.0         0.0           0.599509             1.0    0.749616   \n",
      "4             0.0         0.0           0.599509             1.0    0.749616   \n",
      "5             0.0         0.0           0.599509             1.0    0.749616   \n",
      "\n",
      "   label-precision  ...        f1   link-f1  LINK-precision  LINK-recall  \\\n",
      "0         0.199836  ...  0.249872  0.593527        0.368550     0.368550   \n",
      "1         0.199836  ...  0.249872  0.582455        0.351351     0.351351   \n",
      "2         0.199836  ...  0.249872  0.588782        0.361179     0.361179   \n",
      "3         0.199836  ...  0.249872  0.561894        0.319410     0.319410   \n",
      "4         0.199836  ...  0.249872  0.585619        0.356265     0.356265   \n",
      "5         0.199836  ...  0.249872  0.580874        0.348894     0.348894   \n",
      "\n",
      "    LINK-f1  NO-LINK-precision  NO-LINK-recall  NO-LINK-f1  random_seed  \\\n",
      "0  0.368550           0.818503        0.818503    0.818503        17752   \n",
      "1  0.351351           0.813559        0.813559    0.813559       475483   \n",
      "2  0.361179           0.816384        0.816384    0.816384       628417   \n",
      "3  0.319410           0.804379        0.804379    0.804379       506799   \n",
      "4  0.356265           0.814972        0.814972    0.814972       750598   \n",
      "5  0.348894           0.812853        0.812853    0.812853       580501   \n",
      "\n",
      "   baseline  \n",
      "0  majority  \n",
      "1  majority  \n",
      "2  majority  \n",
      "3  majority  \n",
      "4  majority  \n",
      "5  majority  \n",
      "\n",
      "[6 rows x 24 columns]\n",
      "   label-0-precision  label-0-recall  label-0-f1  label-1-precision  \\\n",
      "0           0.185714        0.406250    0.254902           0.227273   \n",
      "1           0.169118        0.359375    0.230000           0.226415   \n",
      "2           0.159091        0.328125    0.214286           0.191176   \n",
      "3           0.150376        0.312500    0.203046           0.212598   \n",
      "4           0.118182        0.203125    0.149425           0.255172   \n",
      "5           0.139344        0.265625    0.182796           0.281250   \n",
      "\n",
      "   label-1-recall  label-1-f1  label-2-precision  label-2-recall  label-2-f1  \\\n",
      "0        0.303030    0.259740           0.607407        0.336066    0.432718   \n",
      "1        0.242424    0.234146           0.587879        0.397541    0.474328   \n",
      "2        0.262626    0.221277           0.553957        0.315574    0.402089   \n",
      "3        0.272727    0.238938           0.564626        0.340164    0.424552   \n",
      "4        0.373737    0.303279           0.572368        0.356557    0.439394   \n",
      "5        0.363636    0.317181           0.547771        0.352459    0.428928   \n",
      "\n",
      "   label-precision  ...        f1   link-f1  LINK-precision  LINK-recall  \\\n",
      "0         0.340131  ...  0.315787  0.560313        0.316953     0.316953   \n",
      "1         0.327804  ...  0.312825  0.560313        0.316953     0.316953   \n",
      "2         0.301408  ...  0.279217  0.541334        0.287469     0.287469   \n",
      "3         0.309200  ...  0.288845  0.536589        0.280098     0.280098   \n",
      "4         0.315241  ...  0.297366  0.550823        0.302211     0.302211   \n",
      "5         0.322788  ...  0.309635  0.549242        0.299754     0.299754   \n",
      "\n",
      "    LINK-f1  NO-LINK-precision  NO-LINK-recall  NO-LINK-f1  random_seed  \\\n",
      "0  0.316953           0.803672        0.803672    0.803672       152675   \n",
      "1  0.316953           0.803672        0.803672    0.803672       950194   \n",
      "2  0.287469           0.795198        0.795198    0.795198       456952   \n",
      "3  0.280098           0.793079        0.793079    0.793079       728568   \n",
      "4  0.302211           0.799435        0.799435    0.799435       790422   \n",
      "5  0.299754           0.798729        0.798729    0.798729       169776   \n",
      "\n",
      "   baseline  \n",
      "0    random  \n",
      "1    random  \n",
      "2    random  \n",
      "3    random  \n",
      "4    random  \n",
      "5    random  \n",
      "\n",
      "[6 rows x 24 columns]\n",
      "   label-0-precision  label-0-recall  label-0-f1  label-1-precision  \\\n",
      "0           0.000000        0.000000    0.000000           0.000000   \n",
      "1           0.000000        0.000000    0.000000           0.000000   \n",
      "2           0.000000        0.000000    0.000000           0.000000   \n",
      "3           0.000000        0.000000    0.000000           0.000000   \n",
      "4           0.000000        0.000000    0.000000           0.000000   \n",
      "5           0.000000        0.000000    0.000000           0.000000   \n",
      "0           0.185714        0.406250    0.254902           0.227273   \n",
      "1           0.169118        0.359375    0.230000           0.226415   \n",
      "2           0.159091        0.328125    0.214286           0.191176   \n",
      "3           0.150376        0.312500    0.203046           0.212598   \n",
      "4           0.118182        0.203125    0.149425           0.255172   \n",
      "5           0.139344        0.265625    0.182796           0.281250   \n",
      "\n",
      "   label-1-recall  label-1-f1  label-2-precision  label-2-recall  label-2-f1  \\\n",
      "0        0.000000    0.000000           0.599509        1.000000    0.749616   \n",
      "1        0.000000    0.000000           0.599509        1.000000    0.749616   \n",
      "2        0.000000    0.000000           0.599509        1.000000    0.749616   \n",
      "3        0.000000    0.000000           0.599509        1.000000    0.749616   \n",
      "4        0.000000    0.000000           0.599509        1.000000    0.749616   \n",
      "5        0.000000    0.000000           0.599509        1.000000    0.749616   \n",
      "0        0.303030    0.259740           0.607407        0.336066    0.432718   \n",
      "1        0.242424    0.234146           0.587879        0.397541    0.474328   \n",
      "2        0.262626    0.221277           0.553957        0.315574    0.402089   \n",
      "3        0.272727    0.238938           0.564626        0.340164    0.424552   \n",
      "4        0.373737    0.303279           0.572368        0.356557    0.439394   \n",
      "5        0.363636    0.317181           0.547771        0.352459    0.428928   \n",
      "\n",
      "   label-precision  ...        f1   link-f1  LINK-precision  LINK-recall  \\\n",
      "0         0.199836  ...  0.249872  0.593527        0.368550     0.368550   \n",
      "1         0.199836  ...  0.249872  0.582455        0.351351     0.351351   \n",
      "2         0.199836  ...  0.249872  0.588782        0.361179     0.361179   \n",
      "3         0.199836  ...  0.249872  0.561894        0.319410     0.319410   \n",
      "4         0.199836  ...  0.249872  0.585619        0.356265     0.356265   \n",
      "5         0.199836  ...  0.249872  0.580874        0.348894     0.348894   \n",
      "0         0.340131  ...  0.315787  0.560313        0.316953     0.316953   \n",
      "1         0.327804  ...  0.312825  0.560313        0.316953     0.316953   \n",
      "2         0.301408  ...  0.279217  0.541334        0.287469     0.287469   \n",
      "3         0.309200  ...  0.288845  0.536589        0.280098     0.280098   \n",
      "4         0.315241  ...  0.297366  0.550823        0.302211     0.302211   \n",
      "5         0.322788  ...  0.309635  0.549242        0.299754     0.299754   \n",
      "\n",
      "    LINK-f1  NO-LINK-precision  NO-LINK-recall  NO-LINK-f1  random_seed  \\\n",
      "0  0.368550           0.818503        0.818503    0.818503        17752   \n",
      "1  0.351351           0.813559        0.813559    0.813559       475483   \n",
      "2  0.361179           0.816384        0.816384    0.816384       628417   \n",
      "3  0.319410           0.804379        0.804379    0.804379       506799   \n",
      "4  0.356265           0.814972        0.814972    0.814972       750598   \n",
      "5  0.348894           0.812853        0.812853    0.812853       580501   \n",
      "0  0.316953           0.803672        0.803672    0.803672       152675   \n",
      "1  0.316953           0.803672        0.803672    0.803672       950194   \n",
      "2  0.287469           0.795198        0.795198    0.795198       456952   \n",
      "3  0.280098           0.793079        0.793079    0.793079       728568   \n",
      "4  0.302211           0.799435        0.799435    0.799435       790422   \n",
      "5  0.299754           0.798729        0.798729    0.798729       169776   \n",
      "\n",
      "   baseline  \n",
      "0  majority  \n",
      "1  majority  \n",
      "2  majority  \n",
      "3  majority  \n",
      "4  majority  \n",
      "5  majority  \n",
      "0    random  \n",
      "1    random  \n",
      "2    random  \n",
      "3    random  \n",
      "4    random  \n",
      "5    random  \n",
      "\n",
      "[12 rows x 24 columns]\n"
     ]
    }
   ],
   "source": [
    "exp = Pipeline(\n",
    "                id=\"jp_nn_pe_para\",\n",
    "                dataset=PE( \n",
    "                            tasks=[\"label\", \"link\"],\n",
    "                            prediction_level=\"seg\",\n",
    "                            sample_level=\"paragraph\",\n",
    "                            ),\n",
    "                model = \"JointPN\",\n",
    "                metric = \"default_segment_metric\",\n",
    "                pretrained_features =[\n",
    "                                        GloveEmbeddings(),\n",
    "                                        ],\n",
    "                #overwrite = True\n",
    "            )"
   ]
  },
  {
   "cell_type": "code",
   "execution_count": 3,
   "metadata": {},
   "outputs": [],
   "source": [
    "\n",
    "hps = {\n",
    "        \"general\":{\n",
    "                \"optimizer\": {\n",
    "                                \"name\": \"Adam\",\n",
    "                                \"lr\": 0.001,\n",
    "                                },\n",
    "                \"batch_size\": 16,\n",
    "                \"max_epochs\":4000,\n",
    "                \"patience\": 10,\n",
    "                \"task_weight\": 0.5,\n",
    "                },\n",
    "        \"agg\":{\n",
    "                \"mode\":\"mix\",\n",
    "                },\n",
    "        \"seg_bow\":{\n",
    "                \"vocab\": \"BNC_10k\",\n",
    "                \"mode\": \"counts\"\n",
    "                },\n",
    "        \"linear_fc\": {\n",
    "                \"hidden_size\": 512,\n",
    "                \"activation\": \"Sigmoid\"\n",
    "                },\n",
    "        \"lstm_encoder\": {  \n",
    "                    \"dropout\":0.9,\n",
    "                    \"hidden_size\": 256,\n",
    "                    \"num_layers\":1,\n",
    "                    \"bidir\":True,\n",
    "                    },\n",
    "        \"lstm_decoder\": {  \n",
    "                    \"dropout\":0.9,\n",
    "                    \"hidden_size\": 512,\n",
    "                    \"num_layers\":1,\n",
    "                    \"bidir\":False,\n",
    "\n",
    "                    },\n",
    "        \"Pointer\": {}\n",
    "        }"
   ]
  },
  {
   "cell_type": "code",
   "execution_count": 4,
   "metadata": {},
   "outputs": [
    {
     "data": {
      "application/vnd.jupyter.widget-view+json": {
       "model_id": "126c002d818c433eb74df65921e91239",
       "version_major": 2,
       "version_minor": 0
      },
      "text/plain": [
       "Hyperparamaters:   0%|          | 0/1 [00:00<?, ?it/s]"
      ]
     },
     "metadata": {},
     "output_type": "display_data"
    },
    {
     "data": {
      "application/vnd.jupyter.widget-view+json": {
       "model_id": "f64c77c1986d4f3e8a1b0e8ad7bf0f5c",
       "version_major": 2,
       "version_minor": 0
      },
      "text/plain": [
       "Random Seeds:   0%|          | 0/6 [00:00<?, ?it/s]"
      ]
     },
     "metadata": {},
     "output_type": "display_data"
    },
    {
     "ename": "AttributeError",
     "evalue": "module 'torch._C' has no attribute '_cuda_setDevice'",
     "output_type": "error",
     "traceback": [
      "\u001b[0;31m---------------------------------------------------------------------------\u001b[0m",
      "\u001b[0;31mAttributeError\u001b[0m                            Traceback (most recent call last)",
      "\u001b[0;32m<ipython-input-4-f1e3b7a477b5>\u001b[0m in \u001b[0;36m<module>\u001b[0;34m\u001b[0m\n\u001b[1;32m      3\u001b[0m             \u001b[0mn_random_seeds\u001b[0m\u001b[0;34m=\u001b[0m\u001b[0;36m6\u001b[0m\u001b[0;34m,\u001b[0m\u001b[0;34m\u001b[0m\u001b[0;34m\u001b[0m\u001b[0m\n\u001b[1;32m      4\u001b[0m             \u001b[0mmonitor_metric\u001b[0m\u001b[0;34m=\u001b[0m\u001b[0;34m\"link-f1\"\u001b[0m\u001b[0;34m,\u001b[0m\u001b[0;34m\u001b[0m\u001b[0;34m\u001b[0m\u001b[0m\n\u001b[0;32m----> 5\u001b[0;31m             \u001b[0mgpus\u001b[0m \u001b[0;34m=\u001b[0m \u001b[0;34m[\u001b[0m\u001b[0;36m1\u001b[0m\u001b[0;34m]\u001b[0m\u001b[0;34m\u001b[0m\u001b[0;34m\u001b[0m\u001b[0m\n\u001b[0m\u001b[1;32m      6\u001b[0m             )\n",
      "\u001b[0;32m~/phd/SegNLP/segnlp/pipeline/loop_hp_tune.py\u001b[0m in \u001b[0;36mtrain\u001b[0;34m(self, hyperparamaters, n_random_seeds, random_seed, monitor_metric, gpus, overfit_n_batches)\u001b[0m\n\u001b[1;32m    180\u001b[0m \u001b[0;34m\u001b[0m\u001b[0m\n\u001b[1;32m    181\u001b[0m                     \u001b[0mshutil\u001b[0m\u001b[0;34m.\u001b[0m\u001b[0mrmtree\u001b[0m\u001b[0;34m(\u001b[0m\u001b[0mpath_to_hp_models\u001b[0m\u001b[0;34m)\u001b[0m\u001b[0;34m\u001b[0m\u001b[0;34m\u001b[0m\u001b[0m\n\u001b[0;32m--> 182\u001b[0;31m                     \u001b[0;32mraise\u001b[0m \u001b[0me\u001b[0m\u001b[0;34m\u001b[0m\u001b[0;34m\u001b[0m\u001b[0m\n\u001b[0m\u001b[1;32m    183\u001b[0m \u001b[0;34m\u001b[0m\u001b[0m\n\u001b[1;32m    184\u001b[0m                 \u001b[0;31m#done_random_seeds.append(random_seed)\u001b[0m\u001b[0;34m\u001b[0m\u001b[0;34m\u001b[0m\u001b[0;34m\u001b[0m\u001b[0m\n",
      "\u001b[0;32m~/phd/SegNLP/segnlp/pipeline/loop_hp_tune.py\u001b[0m in \u001b[0;36mtrain\u001b[0;34m(self, hyperparamaters, n_random_seeds, random_seed, monitor_metric, gpus, overfit_n_batches)\u001b[0m\n\u001b[1;32m    172\u001b[0m                             \u001b[0mmonitor_metric\u001b[0m \u001b[0;34m=\u001b[0m \u001b[0mmonitor_metric\u001b[0m\u001b[0;34m,\u001b[0m\u001b[0;34m\u001b[0m\u001b[0;34m\u001b[0m\u001b[0m\n\u001b[1;32m    173\u001b[0m                             \u001b[0mdevice\u001b[0m \u001b[0;34m=\u001b[0m \u001b[0mdevice\u001b[0m\u001b[0;34m,\u001b[0m\u001b[0;34m\u001b[0m\u001b[0;34m\u001b[0m\u001b[0m\n\u001b[0;32m--> 174\u001b[0;31m                             \u001b[0moverfit_n_batches\u001b[0m \u001b[0;34m=\u001b[0m \u001b[0moverfit_n_batches\u001b[0m\u001b[0;34m\u001b[0m\u001b[0;34m\u001b[0m\u001b[0m\n\u001b[0m\u001b[1;32m    175\u001b[0m                             )\n\u001b[1;32m    176\u001b[0m                 \u001b[0;32mexcept\u001b[0m \u001b[0mBaseException\u001b[0m \u001b[0;32mas\u001b[0m \u001b[0me\u001b[0m\u001b[0;34m:\u001b[0m\u001b[0;34m\u001b[0m\u001b[0;34m\u001b[0m\u001b[0m\n",
      "\u001b[0;32m~/phd/SegNLP/segnlp/pipeline/loop_train.py\u001b[0m in \u001b[0;36mfit\u001b[0;34m(self, hp_id, random_seed, hyperparamaters, monitor_metric, device, overfit_n_batches)\u001b[0m\n\u001b[1;32m    317\u001b[0m                         \u001b[0mmonitor_metric\u001b[0m \u001b[0;34m=\u001b[0m \u001b[0mmonitor_metric\u001b[0m\u001b[0;34m,\u001b[0m\u001b[0;34m\u001b[0m\u001b[0;34m\u001b[0m\u001b[0m\n\u001b[1;32m    318\u001b[0m                         \u001b[0mdevice\u001b[0m \u001b[0;34m=\u001b[0m \u001b[0mdevice\u001b[0m\u001b[0;34m,\u001b[0m\u001b[0;34m\u001b[0m\u001b[0;34m\u001b[0m\u001b[0m\n\u001b[0;32m--> 319\u001b[0;31m                         \u001b[0moverfit_n_batches\u001b[0m \u001b[0;34m=\u001b[0m \u001b[0moverfit_n_batches\u001b[0m\u001b[0;34m,\u001b[0m\u001b[0;34m\u001b[0m\u001b[0;34m\u001b[0m\u001b[0m\n\u001b[0m\u001b[1;32m    320\u001b[0m                     )\n",
      "\u001b[0;32m~/phd/SegNLP/segnlp/pipeline/loop_train.py\u001b[0m in \u001b[0;36m__train_loop\u001b[0;34m(self, hp_id, random_seed, hyperparamaters, monitor_metric, cv, device, overfit_n_batches, suffix)\u001b[0m\n\u001b[1;32m     38\u001b[0m             \u001b[0mos\u001b[0m\u001b[0;34m.\u001b[0m\u001b[0menviron\u001b[0m\u001b[0;34m[\u001b[0m\u001b[0;34m'CUDA_DEVICE_ORDER'\u001b[0m\u001b[0;34m]\u001b[0m \u001b[0;34m=\u001b[0m \u001b[0;34m\"PCI_BUS_ID\"\u001b[0m\u001b[0;34m\u001b[0m\u001b[0;34m\u001b[0m\u001b[0m\n\u001b[1;32m     39\u001b[0m             \u001b[0mos\u001b[0m\u001b[0;34m.\u001b[0m\u001b[0menviron\u001b[0m\u001b[0;34m[\u001b[0m\u001b[0;34m'CUDA_VISIBLE_DEVICES'\u001b[0m\u001b[0;34m]\u001b[0m \u001b[0;34m=\u001b[0m \u001b[0mdevice_id\u001b[0m\u001b[0;34m\u001b[0m\u001b[0;34m\u001b[0m\u001b[0m\n\u001b[0;32m---> 40\u001b[0;31m             \u001b[0mtorch\u001b[0m\u001b[0;34m.\u001b[0m\u001b[0mcuda\u001b[0m\u001b[0;34m.\u001b[0m\u001b[0mset_device\u001b[0m\u001b[0;34m(\u001b[0m\u001b[0mint\u001b[0m\u001b[0;34m(\u001b[0m\u001b[0mdevice_id\u001b[0m\u001b[0;34m)\u001b[0m\u001b[0;34m)\u001b[0m\u001b[0;34m\u001b[0m\u001b[0;34m\u001b[0m\u001b[0m\n\u001b[0m\u001b[1;32m     41\u001b[0m \u001b[0;34m\u001b[0m\u001b[0m\n\u001b[1;32m     42\u001b[0m \u001b[0;34m\u001b[0m\u001b[0m\n",
      "\u001b[0;32m~/opt/anaconda3/envs/segnlp/lib/python3.7/site-packages/torch/cuda/__init__.py\u001b[0m in \u001b[0;36mset_device\u001b[0;34m(device)\u001b[0m\n\u001b[1;32m    262\u001b[0m     \u001b[0mdevice\u001b[0m \u001b[0;34m=\u001b[0m \u001b[0m_get_device_index\u001b[0m\u001b[0;34m(\u001b[0m\u001b[0mdevice\u001b[0m\u001b[0;34m)\u001b[0m\u001b[0;34m\u001b[0m\u001b[0;34m\u001b[0m\u001b[0m\n\u001b[1;32m    263\u001b[0m     \u001b[0;32mif\u001b[0m \u001b[0mdevice\u001b[0m \u001b[0;34m>=\u001b[0m \u001b[0;36m0\u001b[0m\u001b[0;34m:\u001b[0m\u001b[0;34m\u001b[0m\u001b[0;34m\u001b[0m\u001b[0m\n\u001b[0;32m--> 264\u001b[0;31m         \u001b[0mtorch\u001b[0m\u001b[0;34m.\u001b[0m\u001b[0m_C\u001b[0m\u001b[0;34m.\u001b[0m\u001b[0m_cuda_setDevice\u001b[0m\u001b[0;34m(\u001b[0m\u001b[0mdevice\u001b[0m\u001b[0;34m)\u001b[0m\u001b[0;34m\u001b[0m\u001b[0;34m\u001b[0m\u001b[0m\n\u001b[0m\u001b[1;32m    265\u001b[0m \u001b[0;34m\u001b[0m\u001b[0m\n\u001b[1;32m    266\u001b[0m \u001b[0;34m\u001b[0m\u001b[0m\n",
      "\u001b[0;31mAttributeError\u001b[0m: module 'torch._C' has no attribute '_cuda_setDevice'"
     ]
    }
   ],
   "source": [
    "exp.train(\n",
    "            hyperparamaters = hps,\n",
    "            n_random_seeds=6,\n",
    "            monitor_metric=\"link-f1\",\n",
    "            gpus = [1]\n",
    "            )\n"
   ]
  }
 ],
 "metadata": {
  "kernelspec": {
   "display_name": "Python 3",
   "language": "python",
   "name": "python3"
  },
  "language_info": {
   "codemirror_mode": {
    "name": "ipython",
    "version": 3
   },
   "file_extension": ".py",
   "mimetype": "text/x-python",
   "name": "python",
   "nbconvert_exporter": "python",
   "pygments_lexer": "ipython3",
   "version": "3.7.4"
  },
  "metadata": {
   "interpreter": {
    "hash": "a76bc8531fef674196aa7aad9134f25b0cc59176f1f31a4f40d52a7ed7b4acca"
   }
  }
 },
 "nbformat": 4,
 "nbformat_minor": 2
}
