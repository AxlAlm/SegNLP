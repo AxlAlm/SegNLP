{
 "cells": [
  {
   "cell_type": "code",
   "execution_count": null,
   "metadata": {},
   "outputs": [],
   "source": [
    "from segnlp.datasets import PE\n",
    "from segnlp.experiment import Experiment\n",
    "from segnlp.models.lstm_crf import LSTM_CRF"
   ]
  },
  {
   "cell_type": "code",
   "execution_count": null,
   "metadata": {},
   "outputs": [],
   "source": [
    "#pe = PE(\n",
    "#        tasks = [\"seg+label\"],\n",
    "#        prediction_level = \"token\",\n",
    "#        sample_level = \"paragraph\"\n",
    "#)\n",
    "#import pickle as pkl\n",
    "#with open(\"/tmp/pe.pkl\", \"rb\") as f:\n",
    "#    pe = pkl.load(f)"
   ]
  },
  {
   "cell_type": "code",
   "execution_count": null,
   "metadata": {},
   "outputs": [],
   "source": [
    "import pickle as pkl\n",
    "with open(\"/tmp/pe.pkl\", \"wb\") as f:\n",
    "    pkl.dump(pe, f)"
   ]
  },
  {
   "cell_type": "code",
   "execution_count": null,
   "metadata": {},
   "outputs": [],
   "source": [
    "exp = Experiment(\n",
    "            id = \"test\",\n",
    "            dataset = pe,\n",
    "            metric = \"default_token_metric\",\n",
    "        )"
   ]
  },
  {
   "cell_type": "code",
   "execution_count": null,
   "metadata": {},
   "outputs": [],
   "source": [
    "hps = {\n",
    "        \"general\":{\n",
    "                \"optimizer\": {\n",
    "                                \"name\": \"SGD\",\n",
    "                                \"lr\": 0.1,\n",
    "                                },\n",
    "                \"lr_scheduler\":{ \n",
    "                                \"name\": \"ReduceLROnPlateau\",\n",
    "                                \"mode\": \"max\",\n",
    "                                \"factor\": 0.5,\n",
    "                                \"patience\": 3,\n",
    "                                \"min_lr\": 0.0001\n",
    "                                },\n",
    "                \"batch_size\": 32,\n",
    "                \"max_epochs\":150,\n",
    "                \"patience\": 5,\n",
    "                \"gradient_clip_val\": 5.0\n",
    "                },\n",
    "        \"linear_finetuner\":{},\n",
    "        \"token_dropout\": {\n",
    "                        \"p\":0.05\n",
    "                        },\n",
    "        \"paramater_dropout\": {\n",
    "                        \"p\":0.5\n",
    "                        },\n",
    "        \"LSTM\": {  \n",
    "                    \"dropout\":0.5,\n",
    "                    \"hidden_size\": 256,\n",
    "                    \"num_layers\":2,\n",
    "                    \"bidir\":True,\n",
    "                    },\n",
    "        \"CRF\": {\n",
    "                }\n",
    "    }"
   ]
  },
  {
   "cell_type": "code",
   "execution_count": null,
   "metadata": {
    "scrolled": true
   },
   "outputs": [],
   "source": [
    "exp.train(\n",
    "            model = LSTM_CRF,\n",
    "            hyperparamaters = hps,\n",
    "            monitor_metric = \"f1\"\n",
    ")"
   ]
  },
  {
   "cell_type": "code",
   "execution_count": null,
   "metadata": {},
   "outputs": [],
   "source": []
  }
 ],
 "metadata": {
  "kernelspec": {
   "display_name": "Python 3",
   "language": "python",
   "name": "python3"
  },
  "language_info": {
   "codemirror_mode": {
    "name": "ipython",
    "version": 3
   },
   "file_extension": ".py",
   "mimetype": "text/x-python",
   "name": "python",
   "nbconvert_exporter": "python",
   "pygments_lexer": "ipython3",
   "version": "3.7.4"
  },
  "metadata": {
   "interpreter": {
    "hash": "a76bc8531fef674196aa7aad9134f25b0cc59176f1f31a4f40d52a7ed7b4acca"
   }
  }
 },
 "nbformat": 4,
 "nbformat_minor": 2
}
