{
 "cells": [
  {
   "cell_type": "code",
   "execution_count": 1,
   "metadata": {
    "scrolled": false
   },
   "outputs": [
    {
     "name": "stderr",
     "output_type": "stream",
     "text": [
      "Using backend: pytorch\n"
     ]
    }
   ],
   "source": [
    "from segnlp.datasets import PE\n",
    "from segnlp.data import Batch"
   ]
  },
  {
   "cell_type": "code",
   "execution_count": 2,
   "metadata": {
    "scrolled": false
   },
   "outputs": [
    {
     "name": "stdout",
     "output_type": "stream",
     "text": [
      "{'seg': ['O', 'B', 'I'], 'label': ['None', 'MajorClaim', 'Claim', 'Premise'], 'seg+label': ['O', 'B_MajorClaim', 'B_Claim', 'B_Premise', 'I_MajorClaim', 'I_Claim', 'I_Premise'], 'link': [-11, -10, -9, -8, -7, -6, -5, -4, -3, -2, -1, 0, 1, 2, 3, 4, 5, 6, 7, 8, 9, 10, 11], 'link_label': ['None', 'root', 'support', 'attack']}\n"
     ]
    },
    {
     "data": {
      "application/vnd.jupyter.widget-view+json": {
       "model_id": "6a3ca433904843bcb8fb48b0fd08c47e",
       "version_major": 2,
       "version_minor": 0
      },
      "text/plain": [
       "Preprocessing Persuasive Essays:   0%|          | 0/402 [00:00<?, ?it/s]"
      ]
     },
     "metadata": {},
     "output_type": "display_data"
    }
   ],
   "source": [
    "pe = PE(\n",
    "        tasks = [\"seg+label\", \"link\", \"link_label\"],\n",
    "        prediction_level = \"token\",\n",
    "        sample_level = \"paragraph\",\n",
    "        label_ams = True\n",
    ")"
   ]
  },
  {
   "cell_type": "code",
   "execution_count": 18,
   "metadata": {},
   "outputs": [
    {
     "name": "stdout",
     "output_type": "stream",
     "text": [
      "32 0.04621481895446777\n",
      "32 0.028010129928588867\n",
      "32 0.024616241455078125\n",
      "32 0.02514362335205078\n",
      "32 0.024029016494750977\n",
      "32 0.026810169219970703\n",
      "32 0.024641036987304688\n",
      "32 0.024925947189331055\n",
      "32 0.023296117782592773\n",
      "32 0.026459693908691406\n",
      "32 0.029129981994628906\n",
      "32 0.022815942764282227\n",
      "32 0.023452043533325195\n",
      "32 0.023641109466552734\n",
      "32 0.025910139083862305\n",
      "32 0.024777889251708984\n",
      "32 0.029021024703979492\n",
      "32 0.031652212142944336\n",
      "32 0.029993057250976562\n",
      "32 0.023633956909179688\n",
      "32 0.023288726806640625\n",
      "32 0.023199796676635742\n",
      "32 0.02356410026550293\n",
      "32 0.024309873580932617\n",
      "32 0.02401900291442871\n",
      "32 0.027635812759399414\n",
      "32 0.027006864547729492\n",
      "32 0.03110504150390625\n",
      "32 0.03004002571105957\n",
      "32 0.028980016708374023\n",
      "32 0.026715755462646484\n",
      "32 0.027578115463256836\n",
      "32 0.029397964477539062\n",
      "32 0.02880120277404785\n",
      "32 0.0314478874206543\n",
      "32 0.029037952423095703\n",
      "32 0.027698278427124023\n",
      "32 0.03974199295043945\n",
      "32 0.03566908836364746\n",
      "32 0.0283050537109375\n",
      "32 0.024869918823242188\n",
      "32 0.026871681213378906\n",
      "32 0.029431819915771484\n",
      "32 0.024524927139282227\n",
      "32 0.026897192001342773\n",
      "32 0.02631998062133789\n",
      "32 0.024346113204956055\n",
      "32 0.024933338165283203\n",
      "32 0.02475714683532715\n",
      "32 0.025294065475463867\n",
      "32 0.028308868408203125\n",
      "32 0.026355981826782227\n",
      "32 0.02787303924560547\n",
      "32 0.024153709411621094\n",
      "32 0.026212692260742188\n",
      "28 0.022716999053955078\n",
      "0 0.0002751350402832031\n",
      "0 3.0994415283203125e-06\n",
      "0 1.1920928955078125e-06\n",
      "0 7.152557373046875e-07\n",
      "0 1.1920928955078125e-06\n",
      "0 1.1920928955078125e-06\n",
      "0 7.152557373046875e-07\n",
      "0 9.5367431640625e-07\n",
      "0 1.1920928955078125e-06\n",
      "0 1.9073486328125e-06\n",
      "0 1.1920928955078125e-06\n",
      "0 1.1920928955078125e-06\n",
      "0 9.5367431640625e-07\n",
      "0 9.5367431640625e-07\n"
     ]
    }
   ],
   "source": [
    "from time import time\n",
    "\n",
    "start = time()\n",
    "for batch in pe.train_batches(batch_size = 32):\n",
    "    end = time()\n",
    "    print(len(batch), end-start)\n",
    "    start = time()"
   ]
  },
  {
   "cell_type": "code",
   "execution_count": null,
   "metadata": {},
   "outputs": [],
   "source": []
  }
 ],
 "metadata": {
  "kernelspec": {
   "display_name": "Python 3",
   "language": "python",
   "name": "python3"
  },
  "language_info": {
   "codemirror_mode": {
    "name": "ipython",
    "version": 3
   },
   "file_extension": ".py",
   "mimetype": "text/x-python",
   "name": "python",
   "nbconvert_exporter": "python",
   "pygments_lexer": "ipython3",
   "version": "3.7.4"
  },
  "metadata": {
   "interpreter": {
    "hash": "a76bc8531fef674196aa7aad9134f25b0cc59176f1f31a4f40d52a7ed7b4acca"
   }
  }
 },
 "nbformat": 4,
 "nbformat_minor": 2
}
