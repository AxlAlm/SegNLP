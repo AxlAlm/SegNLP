{
 "cells": [
  {
   "cell_type": "code",
   "execution_count": 1,
   "metadata": {},
   "outputs": [
    {
     "name": "stderr",
     "output_type": "stream",
     "text": [
      "Using backend: pytorch\n"
     ]
    }
   ],
   "source": [
    "from segnlp.datasets import PE"
   ]
  },
  {
   "cell_type": "code",
   "execution_count": 2,
   "metadata": {
    "scrolled": true
   },
   "outputs": [
    {
     "name": "stdout",
     "output_type": "stream",
     "text": [
      "{'seg': ['O', 'B', 'I'], 'label': ['None', 'MajorClaim', 'Claim', 'Premise'], 'seg+label': ['O', 'B_MajorClaim', 'B_Claim', 'B_Premise', 'I_MajorClaim', 'I_Claim', 'I_Premise'], 'link': [-11, -10, -9, -8, -7, -6, -5, -4, -3, -2, -1, 0, 1, 2, 3, 4, 5, 6, 7, 8, 9, 10, 11], 'link_label': ['None', 'root', 'support', 'attack']}\n"
     ]
    },
    {
     "data": {
      "application/vnd.jupyter.widget-view+json": {
       "model_id": "e33681b0647d48adae506e73897a67cc",
       "version_major": 2,
       "version_minor": 0
      },
      "text/plain": [
       "Preprocessing Persuasive Essays:   0%|          | 0/402 [00:00<?, ?it/s]"
      ]
     },
     "metadata": {},
     "output_type": "display_data"
    }
   ],
   "source": [
    "pe = PE(\n",
    "        tasks = [\"seg+label\", \"link\", \"link_label\"],\n",
    "        prediction_level = \"token\",\n",
    "        sample_level = \"paragraph\",\n",
    "        label_ams = True\n",
    ")"
   ]
  },
  {
   "cell_type": "code",
   "execution_count": 3,
   "metadata": {},
   "outputs": [
    {
     "data": {
      "text/plain": [
       "2235"
      ]
     },
     "execution_count": 3,
     "metadata": {},
     "output_type": "execute_result"
    }
   ],
   "source": [
    "len(pe._samples)"
   ]
  },
  {
   "cell_type": "code",
   "execution_count": 5,
   "metadata": {
    "scrolled": false
   },
   "outputs": [
    {
     "data": {
      "text/plain": [
       "on the other hand , the significance of competition is that how to become more excellence to gain the victory . hence it is always said that competition makes the society more effective . however , when we consider about the question that how to win the game , we always find that we need the cooperation . the greater our goal is , the more competition we need . take olympic games which is a form of competition for instance , it is hard to imagine how an athlete could win the game without the training of his or her coach , and the help of other professional staffs such as the people who take care of his diet , and those who are in charge of the medical care . the winner is the athlete but the success belongs to the whole team . therefore without the cooperation , there would be no victory of competition ."
      ]
     },
     "execution_count": 5,
     "metadata": {},
     "output_type": "execute_result"
    }
   ],
   "source": [
    "a = pe._samples[3]\n",
    "a"
   ]
  },
  {
   "cell_type": "code",
   "execution_count": 8,
   "metadata": {},
   "outputs": [
    {
     "data": {
      "text/html": [
       "<div>\n",
       "<style scoped>\n",
       "    .dataframe tbody tr th:only-of-type {\n",
       "        vertical-align: middle;\n",
       "    }\n",
       "\n",
       "    .dataframe tbody tr th {\n",
       "        vertical-align: top;\n",
       "    }\n",
       "\n",
       "    .dataframe thead th {\n",
       "        text-align: right;\n",
       "    }\n",
       "</style>\n",
       "<table border=\"1\" class=\"dataframe\">\n",
       "  <thead>\n",
       "    <tr style=\"text-align: right;\">\n",
       "      <th></th>\n",
       "      <th>id</th>\n",
       "      <th>sentence_token_id</th>\n",
       "      <th>char_start</th>\n",
       "      <th>char_end</th>\n",
       "      <th>str</th>\n",
       "      <th>pos</th>\n",
       "      <th>dephead</th>\n",
       "      <th>deprel</th>\n",
       "      <th>paragraph_sentence_id</th>\n",
       "      <th>document_paragraph_id</th>\n",
       "      <th>...</th>\n",
       "      <th>span_id</th>\n",
       "      <th>seg_id</th>\n",
       "      <th>label</th>\n",
       "      <th>link</th>\n",
       "      <th>link_label</th>\n",
       "      <th>seg</th>\n",
       "      <th>seg+label</th>\n",
       "      <th>target_id</th>\n",
       "      <th>am_id</th>\n",
       "      <th>adu_id</th>\n",
       "    </tr>\n",
       "  </thead>\n",
       "  <tbody>\n",
       "    <tr>\n",
       "      <th>221</th>\n",
       "      <td>221</td>\n",
       "      <td>0</td>\n",
       "      <td>1193</td>\n",
       "      <td>1195</td>\n",
       "      <td>on</td>\n",
       "      <td>IN</td>\n",
       "      <td>230</td>\n",
       "      <td>prep</td>\n",
       "      <td>0</td>\n",
       "      <td>3</td>\n",
       "      <td>...</td>\n",
       "      <td>10</td>\n",
       "      <td>-1</td>\n",
       "      <td>0</td>\n",
       "      <td>-1</td>\n",
       "      <td>0</td>\n",
       "      <td>0</td>\n",
       "      <td>0</td>\n",
       "      <td>-1</td>\n",
       "      <td>5</td>\n",
       "      <td>5</td>\n",
       "    </tr>\n",
       "    <tr>\n",
       "      <th>222</th>\n",
       "      <td>222</td>\n",
       "      <td>1</td>\n",
       "      <td>1196</td>\n",
       "      <td>1199</td>\n",
       "      <td>the</td>\n",
       "      <td>DT</td>\n",
       "      <td>224</td>\n",
       "      <td>det</td>\n",
       "      <td>0</td>\n",
       "      <td>3</td>\n",
       "      <td>...</td>\n",
       "      <td>10</td>\n",
       "      <td>-1</td>\n",
       "      <td>0</td>\n",
       "      <td>-1</td>\n",
       "      <td>0</td>\n",
       "      <td>0</td>\n",
       "      <td>0</td>\n",
       "      <td>-1</td>\n",
       "      <td>5</td>\n",
       "      <td>5</td>\n",
       "    </tr>\n",
       "    <tr>\n",
       "      <th>223</th>\n",
       "      <td>223</td>\n",
       "      <td>2</td>\n",
       "      <td>1200</td>\n",
       "      <td>1205</td>\n",
       "      <td>other</td>\n",
       "      <td>JJ</td>\n",
       "      <td>224</td>\n",
       "      <td>amod</td>\n",
       "      <td>0</td>\n",
       "      <td>3</td>\n",
       "      <td>...</td>\n",
       "      <td>10</td>\n",
       "      <td>-1</td>\n",
       "      <td>0</td>\n",
       "      <td>-1</td>\n",
       "      <td>0</td>\n",
       "      <td>0</td>\n",
       "      <td>0</td>\n",
       "      <td>-1</td>\n",
       "      <td>5</td>\n",
       "      <td>5</td>\n",
       "    </tr>\n",
       "    <tr>\n",
       "      <th>224</th>\n",
       "      <td>224</td>\n",
       "      <td>3</td>\n",
       "      <td>1206</td>\n",
       "      <td>1210</td>\n",
       "      <td>hand</td>\n",
       "      <td>NN</td>\n",
       "      <td>221</td>\n",
       "      <td>pobj</td>\n",
       "      <td>0</td>\n",
       "      <td>3</td>\n",
       "      <td>...</td>\n",
       "      <td>10</td>\n",
       "      <td>-1</td>\n",
       "      <td>0</td>\n",
       "      <td>-1</td>\n",
       "      <td>0</td>\n",
       "      <td>0</td>\n",
       "      <td>0</td>\n",
       "      <td>-1</td>\n",
       "      <td>5</td>\n",
       "      <td>5</td>\n",
       "    </tr>\n",
       "    <tr>\n",
       "      <th>225</th>\n",
       "      <td>225</td>\n",
       "      <td>4</td>\n",
       "      <td>1210</td>\n",
       "      <td>1211</td>\n",
       "      <td>,</td>\n",
       "      <td>,</td>\n",
       "      <td>230</td>\n",
       "      <td>punct</td>\n",
       "      <td>0</td>\n",
       "      <td>3</td>\n",
       "      <td>...</td>\n",
       "      <td>10</td>\n",
       "      <td>-1</td>\n",
       "      <td>0</td>\n",
       "      <td>-1</td>\n",
       "      <td>0</td>\n",
       "      <td>0</td>\n",
       "      <td>0</td>\n",
       "      <td>-1</td>\n",
       "      <td>5</td>\n",
       "      <td>5</td>\n",
       "    </tr>\n",
       "    <tr>\n",
       "      <th>...</th>\n",
       "      <td>...</td>\n",
       "      <td>...</td>\n",
       "      <td>...</td>\n",
       "      <td>...</td>\n",
       "      <td>...</td>\n",
       "      <td>...</td>\n",
       "      <td>...</td>\n",
       "      <td>...</td>\n",
       "      <td>...</td>\n",
       "      <td>...</td>\n",
       "      <td>...</td>\n",
       "      <td>...</td>\n",
       "      <td>...</td>\n",
       "      <td>...</td>\n",
       "      <td>...</td>\n",
       "      <td>...</td>\n",
       "      <td>...</td>\n",
       "      <td>...</td>\n",
       "      <td>...</td>\n",
       "      <td>...</td>\n",
       "      <td>...</td>\n",
       "    </tr>\n",
       "    <tr>\n",
       "      <th>375</th>\n",
       "      <td>375</td>\n",
       "      <td>8</td>\n",
       "      <td>1967</td>\n",
       "      <td>1969</td>\n",
       "      <td>no</td>\n",
       "      <td>DT</td>\n",
       "      <td>376</td>\n",
       "      <td>det</td>\n",
       "      <td>6</td>\n",
       "      <td>3</td>\n",
       "      <td>...</td>\n",
       "      <td>19</td>\n",
       "      <td>9</td>\n",
       "      <td>2</td>\n",
       "      <td>9</td>\n",
       "      <td>2</td>\n",
       "      <td>2</td>\n",
       "      <td>5</td>\n",
       "      <td>9</td>\n",
       "      <td>-1</td>\n",
       "      <td>9</td>\n",
       "    </tr>\n",
       "    <tr>\n",
       "      <th>376</th>\n",
       "      <td>376</td>\n",
       "      <td>9</td>\n",
       "      <td>1970</td>\n",
       "      <td>1977</td>\n",
       "      <td>victory</td>\n",
       "      <td>NN</td>\n",
       "      <td>374</td>\n",
       "      <td>attr</td>\n",
       "      <td>6</td>\n",
       "      <td>3</td>\n",
       "      <td>...</td>\n",
       "      <td>19</td>\n",
       "      <td>9</td>\n",
       "      <td>2</td>\n",
       "      <td>9</td>\n",
       "      <td>2</td>\n",
       "      <td>2</td>\n",
       "      <td>5</td>\n",
       "      <td>9</td>\n",
       "      <td>-1</td>\n",
       "      <td>9</td>\n",
       "    </tr>\n",
       "    <tr>\n",
       "      <th>377</th>\n",
       "      <td>377</td>\n",
       "      <td>10</td>\n",
       "      <td>1978</td>\n",
       "      <td>1980</td>\n",
       "      <td>of</td>\n",
       "      <td>IN</td>\n",
       "      <td>376</td>\n",
       "      <td>prep</td>\n",
       "      <td>6</td>\n",
       "      <td>3</td>\n",
       "      <td>...</td>\n",
       "      <td>19</td>\n",
       "      <td>9</td>\n",
       "      <td>2</td>\n",
       "      <td>9</td>\n",
       "      <td>2</td>\n",
       "      <td>2</td>\n",
       "      <td>5</td>\n",
       "      <td>9</td>\n",
       "      <td>-1</td>\n",
       "      <td>9</td>\n",
       "    </tr>\n",
       "    <tr>\n",
       "      <th>378</th>\n",
       "      <td>378</td>\n",
       "      <td>11</td>\n",
       "      <td>1981</td>\n",
       "      <td>1992</td>\n",
       "      <td>competition</td>\n",
       "      <td>NN</td>\n",
       "      <td>377</td>\n",
       "      <td>pobj</td>\n",
       "      <td>6</td>\n",
       "      <td>3</td>\n",
       "      <td>...</td>\n",
       "      <td>19</td>\n",
       "      <td>9</td>\n",
       "      <td>2</td>\n",
       "      <td>9</td>\n",
       "      <td>2</td>\n",
       "      <td>2</td>\n",
       "      <td>5</td>\n",
       "      <td>9</td>\n",
       "      <td>-1</td>\n",
       "      <td>9</td>\n",
       "    </tr>\n",
       "    <tr>\n",
       "      <th>379</th>\n",
       "      <td>379</td>\n",
       "      <td>12</td>\n",
       "      <td>1992</td>\n",
       "      <td>1993</td>\n",
       "      <td>.</td>\n",
       "      <td>.</td>\n",
       "      <td>374</td>\n",
       "      <td>punct</td>\n",
       "      <td>6</td>\n",
       "      <td>3</td>\n",
       "      <td>...</td>\n",
       "      <td>20</td>\n",
       "      <td>-1</td>\n",
       "      <td>0</td>\n",
       "      <td>-1</td>\n",
       "      <td>0</td>\n",
       "      <td>0</td>\n",
       "      <td>0</td>\n",
       "      <td>-1</td>\n",
       "      <td>-1</td>\n",
       "      <td>-1</td>\n",
       "    </tr>\n",
       "  </tbody>\n",
       "</table>\n",
       "<p>159 rows × 28 columns</p>\n",
       "</div>"
      ],
      "text/plain": [
       "      id  sentence_token_id  char_start  char_end          str pos  dephead  \\\n",
       "221  221                  0        1193      1195           on  IN      230   \n",
       "222  222                  1        1196      1199          the  DT      224   \n",
       "223  223                  2        1200      1205        other  JJ      224   \n",
       "224  224                  3        1206      1210         hand  NN      221   \n",
       "225  225                  4        1210      1211            ,   ,      230   \n",
       "..   ...                ...         ...       ...          ...  ..      ...   \n",
       "375  375                  8        1967      1969           no  DT      376   \n",
       "376  376                  9        1970      1977      victory  NN      374   \n",
       "377  377                 10        1978      1980           of  IN      376   \n",
       "378  378                 11        1981      1992  competition  NN      377   \n",
       "379  379                 12        1992      1993            .   .      374   \n",
       "\n",
       "    deprel  paragraph_sentence_id  document_paragraph_id  ...  span_id  \\\n",
       "221   prep                      0                      3  ...       10   \n",
       "222    det                      0                      3  ...       10   \n",
       "223   amod                      0                      3  ...       10   \n",
       "224   pobj                      0                      3  ...       10   \n",
       "225  punct                      0                      3  ...       10   \n",
       "..     ...                    ...                    ...  ...      ...   \n",
       "375    det                      6                      3  ...       19   \n",
       "376   attr                      6                      3  ...       19   \n",
       "377   prep                      6                      3  ...       19   \n",
       "378   pobj                      6                      3  ...       19   \n",
       "379  punct                      6                      3  ...       20   \n",
       "\n",
       "     seg_id  label  link  link_label  seg  seg+label  target_id  am_id  adu_id  \n",
       "221      -1      0    -1           0    0          0         -1      5       5  \n",
       "222      -1      0    -1           0    0          0         -1      5       5  \n",
       "223      -1      0    -1           0    0          0         -1      5       5  \n",
       "224      -1      0    -1           0    0          0         -1      5       5  \n",
       "225      -1      0    -1           0    0          0         -1      5       5  \n",
       "..      ...    ...   ...         ...  ...        ...        ...    ...     ...  \n",
       "375       9      2     9           2    2          5          9     -1       9  \n",
       "376       9      2     9           2    2          5          9     -1       9  \n",
       "377       9      2     9           2    2          5          9     -1       9  \n",
       "378       9      2     9           2    2          5          9     -1       9  \n",
       "379      -1      0    -1           0    0          0         -1     -1      -1  \n",
       "\n",
       "[159 rows x 28 columns]"
      ]
     },
     "execution_count": 8,
     "metadata": {},
     "output_type": "execute_result"
    }
   ],
   "source": [
    "a.df"
   ]
  },
  {
   "cell_type": "code",
   "execution_count": 6,
   "metadata": {},
   "outputs": [
    {
     "data": {
      "text/plain": [
       "5"
      ]
     },
     "execution_count": 6,
     "metadata": {},
     "output_type": "execute_result"
    }
   ],
   "source": [
    "len(list(a.adus()))\n",
    "len(list(a.segs()))"
   ]
  },
  {
   "cell_type": "code",
   "execution_count": 7,
   "metadata": {},
   "outputs": [
    {
     "data": {
      "text/plain": [
       "[[221, 225], [242, 247], [255, 256], [0, 0], [367, 367]]"
      ]
     },
     "execution_count": 7,
     "metadata": {},
     "output_type": "execute_result"
    }
   ],
   "source": [
    "a.am_span_idxs()"
   ]
  },
  {
   "cell_type": "code",
   "execution_count": null,
   "metadata": {},
   "outputs": [],
   "source": []
  }
 ],
 "metadata": {
  "kernelspec": {
   "display_name": "Python 3",
   "language": "python",
   "name": "python3"
  },
  "language_info": {
   "codemirror_mode": {
    "name": "ipython",
    "version": 3
   },
   "file_extension": ".py",
   "mimetype": "text/x-python",
   "name": "python",
   "nbconvert_exporter": "python",
   "pygments_lexer": "ipython3",
   "version": "3.7.4"
  },
  "metadata": {
   "interpreter": {
    "hash": "a76bc8531fef674196aa7aad9134f25b0cc59176f1f31a4f40d52a7ed7b4acca"
   }
  }
 },
 "nbformat": 4,
 "nbformat_minor": 2
}
