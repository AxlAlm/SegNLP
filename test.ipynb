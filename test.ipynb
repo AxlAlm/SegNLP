{
 "cells": [
  {
   "cell_type": "code",
   "execution_count": 1,
   "metadata": {
    "scrolled": true
   },
   "outputs": [
    {
     "name": "stderr",
     "output_type": "stream",
     "text": [
      "Using backend: pytorch\n"
     ]
    }
   ],
   "source": [
    "from segnlp.datasets import PE\n",
    "from segnlp import Pipeline"
   ]
  },
  {
   "cell_type": "code",
   "execution_count": 2,
   "metadata": {
    "scrolled": true
   },
   "outputs": [],
   "source": [
    "#pe = PE(\n",
    "#        tasks = [\"seg+label\", \"link\", \"link_label\"],\n",
    "#        prediction_level = \"token\",\n",
    "#        sample_level = \"paragraph\",\n",
    "#        label_ams = True\n",
    "#)"
   ]
  },
  {
   "cell_type": "code",
   "execution_count": 3,
   "metadata": {},
   "outputs": [],
   "source": [
    "from segnlp.utils import pickle_data, load_pickle_data\n",
    "#pickle_data(pe, \"/tmp/pe.pkl\")\n",
    "pe = load_pickle_data(\"/tmp/pe.pkl\")"
   ]
  },
  {
   "cell_type": "code",
   "execution_count": 4,
   "metadata": {},
   "outputs": [
    {
     "data": {
      "text/plain": [
       "<segnlp.pipeline.pipeline.Pipeline at 0x7fe3c7120a90>"
      ]
     },
     "execution_count": 4,
     "metadata": {},
     "output_type": "execute_result"
    }
   ],
   "source": [
    "Pipeline(\n",
    "        id = \"test\",\n",
    "        dataset = pe,\n",
    "        metric = \"overlap_metric\"\n",
    ")"
   ]
  },
  {
   "cell_type": "code",
   "execution_count": null,
   "metadata": {},
   "outputs": [],
   "source": []
  }
 ],
 "metadata": {
  "kernelspec": {
   "display_name": "Python 3",
   "language": "python",
   "name": "python3"
  },
  "language_info": {
   "codemirror_mode": {
    "name": "ipython",
    "version": 3
   },
   "file_extension": ".py",
   "mimetype": "text/x-python",
   "name": "python",
   "nbconvert_exporter": "python",
   "pygments_lexer": "ipython3",
   "version": "3.7.4"
  },
  "metadata": {
   "interpreter": {
    "hash": "a76bc8531fef674196aa7aad9134f25b0cc59176f1f31a4f40d52a7ed7b4acca"
   }
  }
 },
 "nbformat": 4,
 "nbformat_minor": 2
}
