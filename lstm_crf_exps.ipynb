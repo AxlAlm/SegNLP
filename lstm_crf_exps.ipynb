{
 "cells": [
  {
   "cell_type": "code",
   "execution_count": null,
   "metadata": {},
   "outputs": [],
   "source": [
    "from segnlp import Pipeline\n",
    "from segnlp.datasets.am import PE\n",
    "from segnlp.pretrained_features import GloveEmbeddings\n",
    "from segnlp.pretrained_features import FlairEmbeddings\n",
    "from segnlp.pretrained_features import BertEmbeddings"
   ]
  },
  {
   "cell_type": "code",
   "execution_count": null,
   "metadata": {},
   "outputs": [],
   "source": [
    "exp = Pipeline(\n",
    "                id=\"lstm_crf_seg_pe\",\n",
    "                dataset=PE( \n",
    "                            tasks=[\"seg\"],\n",
    "                            prediction_level=\"token\",\n",
    "                            sample_level=\"sentence\",\n",
    "                            ),\n",
    "                pretrained_features =[\n",
    "                            GloveEmbeddings(),\n",
    "                            FlairEmbeddings(),\n",
    "                            BertEmbeddings(),\n",
    "                            ],\n",
    "                model = \"LSTM_CRF\",\n",
    "                metric = \"default_token_metric\"\n",
    "            )"
   ]
  },
  {
   "cell_type": "code",
   "execution_count": null,
   "metadata": {},
   "outputs": [],
   "source": [
    "hps = {\n",
    "        \"general\":{\n",
    "                \"optimizer\": {\n",
    "                                \"name\": \"SGD\",\n",
    "                                \"lr\": 0.1,\n",
    "                                },\n",
    "                \"lr_scheduler\":{ \n",
    "                                \"name\": \"ReduceLROnPlateau\",\n",
    "                                \"mode\": \"max\",\n",
    "                                \"factor\": 0.5,\n",
    "                                \"patience\": 3,\n",
    "                                \"min_lr\": 0.0001\n",
    "                                },\n",
    "                \"batch_size\": 32,\n",
    "                \"max_epochs\":150,\n",
    "                \"patience\": 7,\n",
    "                \"gradient_clip_val\": 5\n",
    "                },\n",
    "        \"linear_finetuner\":{},\n",
    "        \"word_dropout\": {\n",
    "                        \"p\":0.05\n",
    "                        },\n",
    "        \"paramater_dropout\": {\n",
    "                        \"p\":0.5\n",
    "                        },\n",
    "        \"LSTM\": {  \n",
    "                    \"dropout\":0.5,\n",
    "                    \"hidden_size\": 256,\n",
    "                    \"num_layers\":2,\n",
    "                    \"bidir\":True,\n",
    "                    },\n",
    "        \"CRF\": {\n",
    "                }\n",
    "        }"
   ]
  },
  {
   "cell_type": "code",
   "execution_count": null,
   "metadata": {},
   "outputs": [],
   "source": [
    "exp.train(\n",
    "        hyperparamaters = hps,\n",
    "        n_random_seeds = 6,\n",
    "        monitor_metric = \"f1\",\n",
    "        gpus = [2]\n",
    "        )\n"
   ]
  }
 ],
 "metadata": {
  "kernelspec": {
   "display_name": "Python 3.7.4 64-bit ('segnlp': conda)",
   "name": "python374jvsc74a57bd0a76bc8531fef674196aa7aad9134f25b0cc59176f1f31a4f40d52a7ed7b4acca"
  },
  "language_info": {
   "name": "python",
   "version": ""
  },
  "metadata": {
   "interpreter": {
    "hash": "a76bc8531fef674196aa7aad9134f25b0cc59176f1f31a4f40d52a7ed7b4acca"
   }
  },
  "orig_nbformat": 2
 },
 "nbformat": 4,
 "nbformat_minor": 2
}