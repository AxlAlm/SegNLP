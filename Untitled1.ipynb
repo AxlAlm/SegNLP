{
 "cells": [
  {
   "cell_type": "code",
   "execution_count": 1,
   "id": "14dc4435-67b1-4094-a34b-fec460e43abf",
   "metadata": {},
   "outputs": [],
   "source": [
    "data = \"\"\"\n",
    "3\tO\t0\tO\tDT\tThe\tO\tO\tO\n",
    "3\tO\t1\tO\tJJ\tlong\tO\tO\tO\n",
    "3\tOther\t2\tO\tJJ\tPalestinian\tO\tO\tO\n",
    "3\tO\t3\tO\tNN\tuprising\tO\tO\tO\n",
    "3\tO\t4\tO\tVBZ\thas\tO\tO\tO\n",
    "3\tO\t5\tO\tVBN\tbrought\tO\tO\tO\n",
    "3\tO\t6\tO\tNN\tbitterness\tO\tO\tO\n",
    "3\tO\t7\tO\tTO\tto\tO\tO\tO\n",
    "3\tOther\t8\tO\tJJ\tIsraeli\tO\tO\tO\n",
    "3\tO\t9\tO\tNN\thumor\tO\tO\tO\n",
    "3\tO\t10\tO\t,\tCOMMA\tO\tO\tO\n",
    "3\tO\t11\tO\tCC\tand\tO\tO\tO\n",
    "3\tO\t12\tO\tDT\tthe\tO\tO\tO\n",
    "3\tO\t13\tO\tNN\tcomedian\tO\tO\tO\n",
    "3\tO\t14\tO\tPOS\t's\tO\tO\tO\n",
    "3\tO\t15\tO\tNN\topener\tO\tO\tO\n",
    "3\tO\t16\tO\tVBD\twas\tO\tO\tO\n",
    "3\tO\t17\tO\tRB\tnot\tO\tO\tO\n",
    "3\tO\t18\tO\tVBN\tmeant\tO\tO\tO\n",
    "3\tO\t19\tO\tTO\tto\tO\tO\tO\n",
    "3\tO\t20\tO\tVB\tput\tO\tO\tO\n",
    "3\tO\t21\tO\tPP$\this\tO\tO\tO\n",
    "3\tO\t22\tO\tNN\taudience\tO\tO\tO\n",
    "3\tO\t23\tO\tIN\tat\tO\tO\tO\n",
    "3\tO\t24\tO\tNN\tease\tO\tO\tO\n",
    "3\tO\t25\tO\t.\t.\tO\tO\tO\n",
    "\"\"\""
   ]
  },
  {
   "cell_type": "code",
   "execution_count": null,
   "id": "ccfd6b3e-a577-43a2-aba7-603946f0c710",
   "metadata": {},
   "outputs": [],
   "source": [
    "import pandas as pd\n",
    "\n",
    "pd.from_csv(data, delmiter=\"\")"
   ]
  }
 ],
 "metadata": {
  "kernelspec": {
   "display_name": "Python 3",
   "language": "python",
   "name": "python3"
  },
  "language_info": {
   "codemirror_mode": {
    "name": "ipython",
    "version": 3
   },
   "file_extension": ".py",
   "mimetype": "text/x-python",
   "name": "python",
   "nbconvert_exporter": "python",
   "pygments_lexer": "ipython3",
   "version": "3.7.4"
  }
 },
 "nbformat": 4,
 "nbformat_minor": 5
}
