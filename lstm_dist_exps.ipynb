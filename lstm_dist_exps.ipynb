{
 "cells": [
  {
   "cell_type": "code",
   "execution_count": null,
   "metadata": {},
   "outputs": [],
   "source": [
    "from segnlp import Pipeline\n",
    "from segnlp.datasets.am import PE\n",
    "from segnlp.pretrained_features import ELMoEmbeddings"
   ]
  },
  {
   "cell_type": "code",
   "execution_count": null,
   "metadata": {},
   "outputs": [],
   "source": [
    "exp = Pipeline(\n",
    "                id=\"lstm_dist_pe\",\n",
    "                dataset=PE( \n",
    "                            tasks=[\"label\", \"link\", \"link_label\"],\n",
    "                            prediction_level=\"seg\",\n",
    "                            sample_level=\"paragraph\",\n",
    "                            ),\n",
    "                pretrained_features = [\n",
    "                                ELMoEmbeddings(),\n",
    "                                ],\n",
    "                model = \"LSTM_DIST\",\n",
    "                other_levels = [\"am\"],\n",
    "                metric = \"default_segment_metric\",\n",
    "                #overwrite = True\n",
    "            )"
   ]
  },
  {
   "cell_type": "code",
   "execution_count": null,
   "metadata": {},
   "outputs": [],
   "source": [
    "exp = Pipeline(\n",
    "                id=\"lstm_dist_pe\",\n",
    "                dataset=PE( \n",
    "                            tasks=[\"label\", \"link\", \"link_label\"],\n",
    "                            prediction_level=\"seg\",\n",
    "                            sample_level=\"paragraph\",\n",
    "                            ),\n",
    "                pretrained_features = [\n",
    "                                ELMoEmbeddings(),\n",
    "                                ],\n",
    "                model = \"LSTM_DIST\",\n",
    "                other_levels = [\"am\"],\n",
    "                metric = \"default_segment_metric\",\n",
    "                #overwrite = True\n",
    "            )\n",
    "\n",
    "hps = {\n",
    "        \"general\":{\n",
    "                \"optimizer\": {\n",
    "                                \"name\": \"Adam\",\n",
    "                                \"lr\": 0.001,\n",
    "                                },\n",
    "                \"batch_size\": 16,\n",
    "                \"max_epochs\":500,\n",
    "                \"patience\": 10,\n",
    "                \"task_weight\": 0.5,\n",
    "                },\n",
    "        \"embedding_dropout\":{\n",
    "                        \"p\":0.1,\n",
    "                        },\n",
    "        \"bow_dropout\":{\n",
    "                        \"p\":0.5,\n",
    "                        },\n",
    "        \"output_dropout\":{\n",
    "                        \"p\":0.5,\n",
    "                        },                     \n",
    "        \"seg_bow\":{\n",
    "                \"vocab\": \"BNC_10k\",\n",
    "                \"mode\": \"counts\",\n",
    "                },\n",
    "        \"bow_linear\":{\n",
    "                        \"out_dim\": 512,\n",
    "                        \"weight_init\": {\n",
    "                                        \"name\":\"uniform_\",\n",
    "                                        \"a\": -0.05, \n",
    "                                        \"b\": 0.05\n",
    "                                        },\n",
    "                        },\n",
    "        \"lstms\": {   \n",
    "                \"dropout\":0.1,\n",
    "                \"hidden_size\": 256,\n",
    "                \"num_layers\":1,\n",
    "                \"bidir\":True,\n",
    "                \"weight_init\": \"orthogonal_\",\n",
    "                },\n",
    "        \"Pairer\": {\n",
    "                    \"mode\": [\"cat\", \"multi\"],\n",
    "                    \"n_rel_pos\": 25,\n",
    "                    },\n",
    "        \"linear_cf\":  {\n",
    "                \"weight_init\": \"uniform_\",\n",
    "                \"weight_init_kwargs\": {\"a\": -0.05, \"b\": 0.05},\n",
    "                },\n",
    "        }"
   ]
  },
  {
   "cell_type": "code",
   "execution_count": null,
   "metadata": {},
   "outputs": [],
   "source": [
    "exp.train(\n",
    "            hyperparamaters = hps,\n",
    "            n_random_seeds=6,\n",
    "            gpus=[1],\n",
    "            monitor_metric=\"f1\",\n",
    "            )"
   ]
  }
 ],
 "metadata": {
  "kernelspec": {
   "display_name": "Python 3.7.4 64-bit ('segnlp': conda)",
   "name": "python374jvsc74a57bd0a76bc8531fef674196aa7aad9134f25b0cc59176f1f31a4f40d52a7ed7b4acca"
  },
  "language_info": {
   "name": "python",
   "version": ""
  },
  "metadata": {
   "interpreter": {
    "hash": "a76bc8531fef674196aa7aad9134f25b0cc59176f1f31a4f40d52a7ed7b4acca"
   }
  },
  "orig_nbformat": 2
 },
 "nbformat": 4,
 "nbformat_minor": 2
}