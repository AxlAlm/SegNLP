{
 "cells": [
  {
   "cell_type": "code",
   "execution_count": 2,
   "id": "5de9a409",
   "metadata": {},
   "outputs": [],
   "source": [
    "from segnlp.resources.chars import CharVocab"
   ]
  },
  {
   "cell_type": "code",
   "execution_count": 3,
   "id": "07aac710",
   "metadata": {},
   "outputs": [],
   "source": [
    "char = CharVocab()"
   ]
  },
  {
   "cell_type": "code",
   "execution_count": 9,
   "id": "a2c4a007",
   "metadata": {},
   "outputs": [
    {
     "data": {
      "text/plain": [
       "[tensor([18, 15, 22, 22, 25]),\n",
       " tensor([33, 11, 18, 30]),\n",
       " tensor([19, 29]),\n",
       " tensor([31, 26]),\n",
       " tensor([19, 22, 25, 29, 21, 16, 29, 16, 21, 14, 11, 16])]"
      ]
     },
     "execution_count": 9,
     "metadata": {},
     "output_type": "execute_result"
    }
   ],
   "source": [
    "char[[\"hello\", \"waht\", \"is\", \"up\", \"iloskfsfkdaf\"]]"
   ]
  },
  {
   "cell_type": "code",
   "execution_count": 13,
   "id": "cf51e0a1",
   "metadata": {},
   "outputs": [
    {
     "data": {
      "text/plain": [
       "tensor([[18, 15, 22, 22, 25,  0,  0,  0,  0,  0,  0,  0],\n",
       "        [33, 11, 18, 30,  0,  0,  0,  0,  0,  0,  0,  0],\n",
       "        [19, 29,  0,  0,  0,  0,  0,  0,  0,  0,  0,  0],\n",
       "        [31, 26,  0,  0,  0,  0,  0,  0,  0,  0,  0,  0],\n",
       "        [19, 22, 25, 29, 21, 16, 29, 16, 21, 14, 11, 16],\n",
       "        [22, 25, 22,  0,  0,  0,  0,  0,  0,  0,  0,  0]])"
      ]
     },
     "execution_count": 13,
     "metadata": {},
     "output_type": "execute_result"
    }
   ],
   "source": [
    "import torch\n",
    "x = torch.nn.utils.rnn.pad_sequence(char[[\"hello\", \"waht\", \"is\", \"up\", \"iloskfsfkdaf\", \"lol\"]], batch_first=True)\n",
    "x"
   ]
  },
  {
   "cell_type": "code",
   "execution_count": 17,
   "id": "bccc7697",
   "metadata": {},
   "outputs": [
    {
     "data": {
      "text/plain": [
       "tensor([[[18, 15, 22, 22, 25,  0,  0,  0,  0,  0,  0,  0],\n",
       "         [33, 11, 18, 30,  0,  0,  0,  0,  0,  0,  0,  0],\n",
       "         [19, 29,  0,  0,  0,  0,  0,  0,  0,  0,  0,  0],\n",
       "         [31, 26,  0,  0,  0,  0,  0,  0,  0,  0,  0,  0]],\n",
       "\n",
       "        [[19, 22, 25, 29, 21, 16, 29, 16, 21, 14, 11, 16],\n",
       "         [22, 25, 22,  0,  0,  0,  0,  0,  0,  0,  0,  0],\n",
       "         [ 0,  0,  0,  0,  0,  0,  0,  0,  0,  0,  0,  0],\n",
       "         [ 0,  0,  0,  0,  0,  0,  0,  0,  0,  0,  0,  0]]])"
      ]
     },
     "execution_count": 17,
     "metadata": {},
     "output_type": "execute_result"
    }
   ],
   "source": [
    "torch.nn.utils.rnn.pad_sequence(torch.split(x,[4,2]), batch_first = True)"
   ]
  },
  {
   "cell_type": "code",
   "execution_count": 18,
   "id": "f76bd09a",
   "metadata": {},
   "outputs": [],
   "source": [
    "from torch.nn.utils.rnn import pad_sequence\n",
    "import torch.nn.functional as F\n",
    "import torch\n"
   ]
  },
  {
   "cell_type": "code",
   "execution_count": null,
   "id": "60667bb3",
   "metadata": {},
   "outputs": [],
   "source": [
    "l = [\n",
    "    torch.tensor([9,3,42]), \n",
    "    torch.tensor([0,2]), \n",
    "    torch.tensor([3,2222,323,212,32,321,32,2,32])\n",
    "    ]\n",
    "l_p = torch.nn.utils.rnn.pad_sequence(l, batch_first=True)\n",
    "l_p"
   ]
  },
  {
   "cell_type": "code",
   "execution_count": null,
   "id": "80ef5c2b",
   "metadata": {},
   "outputs": [],
   "source": [
    "d = [\n",
    "    torch.tensor([9,1]), \n",
    "    torch.tensor([0,2,1,1]), \n",
    "    torch.tensor([3,2222,323,212])\n",
    "    ]\n",
    "d_p = torch.nn.utils.rnn.pad_sequence(d, batch_first=True)\n",
    "d_p"
   ]
  },
  {
   "cell_type": "code",
   "execution_count": null,
   "id": "3b8ffc1a",
   "metadata": {},
   "outputs": [],
   "source": [
    "torch.nn.utils.rnn.pad_sequence((l_p, d_p), batch_first=True)"
   ]
  },
  {
   "cell_type": "code",
   "execution_count": 48,
   "id": "8e1f2e0f",
   "metadata": {},
   "outputs": [
    {
     "data": {
      "text/plain": [
       "tensor([1, 0, 0, 0, 1, 0, 0, 1, 1, 1, 1, 0, 1, 1, 1, 1, 0, 0])"
      ]
     },
     "execution_count": 48,
     "metadata": {},
     "output_type": "execute_result"
    }
   ],
   "source": [
    "\n",
    "x = torch.tensor([0,0,0,0,1,1,1,2,3,4,0,0,1,2,0,1,1,1])\n",
    "_, lengths = torch.unique_consecutive(x, return_counts = True)\n",
    "idxs = utils.cumsum_zero(lengths)\n",
    "d = torch.zeros_like(x)\n",
    "d[idxs] = 1\n",
    "d"
   ]
  },
  {
   "cell_type": "code",
   "execution_count": 38,
   "id": "3cfa6ae9",
   "metadata": {},
   "outputs": [
    {
     "data": {
      "text/plain": [
       "tensor([1, 0, 0, 0, 1, 0, 0, 1, 1, 1])"
      ]
     },
     "execution_count": 38,
     "metadata": {},
     "output_type": "execute_result"
    }
   ],
   "source": [
    "d = torch.zeros_like(x)\n",
    "d[idxs] = 1\n",
    "d"
   ]
  },
  {
   "cell_type": "code",
   "execution_count": 52,
   "id": "aa86c3a4",
   "metadata": {},
   "outputs": [
    {
     "data": {
      "text/plain": [
       "tensor([1, 1, 1, 1, 1, 1, 1, 1, 1, 1, 1, 1, 1, 1, 1, 1, 1, 1])"
      ]
     },
     "execution_count": 52,
     "metadata": {},
     "output_type": "execute_result"
    }
   ],
   "source": [
    "z = torch.zeros_like(x)\n",
    "y = z+1\n",
    "y"
   ]
  },
  {
   "cell_type": "code",
   "execution_count": 54,
   "id": "5bfdefa9",
   "metadata": {},
   "outputs": [
    {
     "data": {
      "text/plain": [
       "tensor([False, False, False, False,  True,  True,  True, False, False, False,\n",
       "        False, False,  True, False, False,  True,  True,  True])"
      ]
     },
     "execution_count": 54,
     "metadata": {},
     "output_type": "execute_result"
    }
   ],
   "source": [
    "x == y"
   ]
  },
  {
   "cell_type": "code",
   "execution_count": null,
   "id": "e689baef",
   "metadata": {},
   "outputs": [],
   "source": []
  }
 ],
 "metadata": {
  "kernelspec": {
   "display_name": "Python 3",
   "language": "python",
   "name": "python3"
  },
  "language_info": {
   "codemirror_mode": {
    "name": "ipython",
    "version": 3
   },
   "file_extension": ".py",
   "mimetype": "text/x-python",
   "name": "python",
   "nbconvert_exporter": "python",
   "pygments_lexer": "ipython3",
   "version": "3.7.4"
  }
 },
 "nbformat": 4,
 "nbformat_minor": 5
}
