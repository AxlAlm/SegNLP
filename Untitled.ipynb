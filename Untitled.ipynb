{
 "cells": [
  {
   "cell_type": "code",
   "execution_count": 1,
   "id": "b373cf69",
   "metadata": {
    "scrolled": false
   },
   "outputs": [
    {
     "name": "stderr",
     "output_type": "stream",
     "text": [
      "Using backend: pytorch\n"
     ]
    }
   ],
   "source": [
    "from segnlp.metrics import overlap_metric"
   ]
  },
  {
   "cell_type": "code",
   "execution_count": 2,
   "id": "c8c74f47",
   "metadata": {},
   "outputs": [],
   "source": [
    "import pandas as pd\n",
    "\n",
    "text = \"hej , detta är ett segment . Int ett segment .  Detta är ett annat segment . Sista är också segment .\".split()\n",
    "seg_id = [ 0, 0, 0, 0, 0, 0, 0, None, None, None,None, 1, 1, 1, 1, 1, 1, 2 ,2, 2, 2, 2]\n",
    "link = [ 0, 0, 0, 0, 0, 0, 0, None, None, None,None, 0, 0, 0, 0, 0, 0, 1 ,1, 1, 1, 1]\n",
    "link_label = [ 0, 0, 0, 0, 0, 0, 0, None, None, None,None, 0, 0, 0, 0, 0, 0, 1 ,1, 1, 1, 1]\n",
    "label = [ 0, 0, 0, 0, 0, 0, 0, None, None, None,None, 0, 0, 0, 0, 0, 0, 1 ,1, 1, 1, 1]\n",
    "target_id = [ 0, 0, 0, 0, 0, 0, 0, None, None, None,None, 0, 0, 0, 0, 0, 0, 1 ,1, 1, 1, 1]\n",
    "\n",
    "target_df = pd.DataFrame({\n",
    "        \"str\":text,\n",
    "        \"seg_id\": seg_id,\n",
    "        \"link\" : link,\n",
    "        \"link_label\": link_label,\n",
    "        \"target_id\" : target_id,\n",
    "        \"label\" : label\n",
    "     \n",
    "})\n",
    "#target_df"
   ]
  },
  {
   "cell_type": "code",
   "execution_count": 3,
   "id": "f4c687e1",
   "metadata": {},
   "outputs": [],
   "source": [
    "import pandas as pd\n",
    "\n",
    "text = \"hej , detta är ett segment . Int ett segment .  Detta är ett annat segment . Sista är också segment .\".split()\n",
    "seg_id = [ 0, 0, 0, 0, 0, 0, 0, None, None, None,None, 1, 1, 1, 1, 1, 1, 2 ,2, 2, 2, 2]\n",
    "link = [ 0, 0, 0, 0, 0, 0, 0, None, None, None,None, 0, 0, 0, 0, 0, 0, 0 ,0, 0, 0, 0]\n",
    "link_label = [ 0, 0, 0, 0, 0, 0, 0, None, None, None,None, 0, 0, 0, 0, 0, 0, 1 ,1, 1, 1, 1]\n",
    "label = [ 0, 0, 0, 0, 0, 0, 0, None, None, None,None, 0, 0, 0, 0, 0, 0, 1 ,1, 1, 1, 1]\n",
    "target_id = [ 0, 0, 0, 0, 0, 0, 0, None, None, None,None, 0, 0, 0, 0, 0, 0, 0 ,0, 0, 0, 0]\n",
    "\n",
    "pred_df = pd.DataFrame({\n",
    "        \"str\":text,\n",
    "        \"seg_id\": seg_id,\n",
    "        \"link\" : link,\n",
    "        \"link_label\": link_label,\n",
    "        \"target_id\" : target_id,\n",
    "        \"label\" : label\n",
    "     \n",
    "})\n",
    "#pred_df"
   ]
  },
  {
   "cell_type": "code",
   "execution_count": 4,
   "id": "77778cb0",
   "metadata": {
    "scrolled": false
   },
   "outputs": [
    {
     "name": "stdout",
     "output_type": "stream",
     "text": [
      "[[0. 0. 0.]\n",
      " [0. 0. 1.]\n",
      " [0. 0. 0.]]\n",
      "[[0. 0. 0.]\n",
      " [0. 0. 1.]\n",
      " [0. 0. 0.]]\n"
     ]
    },
    {
     "data": {
      "text/plain": [
       "{'label-0.5-l1-f1': 1.0,\n",
       " 'label-0.5-l2-f1': 1.0,\n",
       " 'label-0.5-f1': 1.0,\n",
       " 'label-0.5-f1-micro': 1.0,\n",
       " 'link_label-0.5-ll1-f1': 1.0,\n",
       " 'link_label-0.5-ll2-f1': 0.0,\n",
       " 'link_label-0.5-f1': 0.5,\n",
       " 'link_label-0.5-f1-micro': 0.8,\n",
       " '0.5-f1': 0.75,\n",
       " '0.5-f1-micro': 0.9,\n",
       " 'label-1.0-l1-f1': 1.0,\n",
       " 'label-1.0-l2-f1': 1.0,\n",
       " 'label-1.0-f1': 1.0,\n",
       " 'label-1.0-f1-micro': 1.0,\n",
       " 'link_label-1.0-ll1-f1': 1.0,\n",
       " 'link_label-1.0-ll2-f1': 0.0,\n",
       " 'link_label-1.0-f1': 0.5,\n",
       " 'link_label-1.0-f1-micro': 0.8,\n",
       " '1.0-f1': 0.75,\n",
       " '1.0-f1-micro': 0.9}"
      ]
     },
     "execution_count": 4,
     "metadata": {},
     "output_type": "execute_result"
    }
   ],
   "source": [
    "\n",
    "pred_df[\"id\"] = list(range(len(pred_df)))\n",
    "target_df[\"id\"] = list(range(len(pred_df)))\n",
    "pred_df[\"token_id\"] = list(range(len(pred_df)))\n",
    "target_df[\"token_id\"] = list(range(len(pred_df)))\n",
    "\n",
    "\n",
    "overlap_metric(\n",
    "            pred_df = pred_df,\n",
    "            target_df = target_df,\n",
    "            task_labels = {\n",
    "                        \"link_label\": [\"ll1\",\"ll2\"],\n",
    "                        \"label\": [\"l1\",\"l2\"],\n",
    "\n",
    "            }\n",
    ")"
   ]
  },
  {
   "cell_type": "code",
   "execution_count": null,
   "id": "5fe18980",
   "metadata": {},
   "outputs": [],
   "source": []
  }
 ],
 "metadata": {
  "kernelspec": {
   "display_name": "Python 3",
   "language": "python",
   "name": "python3"
  },
  "language_info": {
   "codemirror_mode": {
    "name": "ipython",
    "version": 3
   },
   "file_extension": ".py",
   "mimetype": "text/x-python",
   "name": "python",
   "nbconvert_exporter": "python",
   "pygments_lexer": "ipython3",
   "version": "3.7.4"
  }
 },
 "nbformat": 4,
 "nbformat_minor": 5
}
