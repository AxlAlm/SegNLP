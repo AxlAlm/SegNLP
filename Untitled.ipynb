{
 "cells": [
  {
   "cell_type": "code",
   "execution_count": null,
   "id": "2e6bc410",
   "metadata": {},
   "outputs": [],
   "source": [
    "import pylab as p\n",
    "import dgl\n",
    "import networkx as nx\n",
    "\n",
    "\n",
    "\n",
    "n = [0, 1, 2, 3, 4, 5, 6, 7, 8, 9]\n",
    "e = [3, 3, 3, 3, 5, 3, 5, 8, 5, 3]\n",
    "G = dgl.graph((n, e)).to_networkx().to_undirected()\n",
    "nx.draw(G)\n",
    "p.show()\n"
   ]
  },
  {
   "cell_type": "code",
   "execution_count": null,
   "id": "c976a5a2",
   "metadata": {},
   "outputs": [],
   "source": [
    "nx.is_tree(G)"
   ]
  },
  {
   "cell_type": "code",
   "execution_count": null,
   "id": "c0871277",
   "metadata": {},
   "outputs": [],
   "source": [
    "nx.is_connected(G)"
   ]
  },
  {
   "cell_type": "code",
   "execution_count": null,
   "id": "c453d344",
   "metadata": {},
   "outputs": [],
   "source": [
    "n = [0, 1, 2, 3, 4, 5, 6, 7, 8, 9, 10, 11, 12, 13, 14, 15, 16, 17, 18, 19, 20, 21, 22, 23, 24, 25, 26, 27, 28, 29, 30, 31, 32, 33, 34, 35, 36] \n",
    "e = [9, 0, 0, 4, 2, 4, 8, 8, 5, 8, 12, 12, 9, 12, 15, 13, 15, 19, 17, 16, 8, 22, 27, 22, 25, 23, 27, 27, 27, 30, 27, 30, 30, 27, 27, 34, 27]"
   ]
  },
  {
   "cell_type": "code",
   "execution_count": null,
   "id": "f510d9a0",
   "metadata": {},
   "outputs": [],
   "source": [
    "G = dgl.graph((n, e)).to_networkx().to_undirected()\n",
    "nx.draw(G)\n",
    "p.show()"
   ]
  },
  {
   "cell_type": "code",
   "execution_count": null,
   "id": "429449bc",
   "metadata": {},
   "outputs": [],
   "source": [
    "nx.shortest_path(G, source = 20 , target = 8)"
   ]
  },
  {
   "cell_type": "code",
   "execution_count": null,
   "id": "ea419bd2",
   "metadata": {},
   "outputs": [],
   "source": [
    "list(nx.connected_components(G))"
   ]
  },
  {
   "cell_type": "code",
   "execution_count": null,
   "id": "a945b5d6",
   "metadata": {},
   "outputs": [],
   "source": [
    "doc = \"\"\"With the rapid development of the standard of people's life, increasing numbers of animal experiments are done, new medicines and foods, for instance. Some opponents says that it is cruel to animals and nature, however, I believe that no sensible person will deny that it is a dramatically cruel activity to humanity if the latest foods or medicines are allowed to sold without testing on animals. In my essay, I will discuss this issue from twofold aspects.\n",
    "First of all, as we all know, animals are friendly and vital for people, because if there are no animals in the world, the balance of nature will broke down, and we, human, will die out as well. The animal experiments accelerate the vanishing of some categories of animals. In other words, doing this various testing is a hazard of human's future and next generation.\n",
    "Though animal experiments have negative impact on the natural balance, it is necessary to make sure that people can live a long life. To begin with, it is indisputable that every new kind food or pill may be noxious, and scientists must do something to insure that the new invention benefits people instead of making people ill or even dying. The new foods or medicines are invented to promote the quantity of human's life. Thus even if they are volunteers; they cannot take the place of animals to test the new foods or medicines. Furthermore, it also have potentially harm for human's health without any testing.\n",
    "To sum up, I reaffirm that although there is some disadvantages of animals' profits, the merits of animal experiments still outweigh the demerits.\"\"\""
   ]
  },
  {
   "cell_type": "code",
   "execution_count": null,
   "id": "6a4a41ce",
   "metadata": {},
   "outputs": [],
   "source": [
    "import spacy\n",
    "\n",
    "nlp = spacy.load('en_core_web_lg')\n",
    "doc = nlp(doc)"
   ]
  },
  {
   "cell_type": "code",
   "execution_count": null,
   "id": "a00ce06f",
   "metadata": {},
   "outputs": [],
   "source": [
    "\n",
    "for i,sent in enumerate(doc.sents):\n",
    "    print(str(sent))\n",
    "    "
   ]
  },
  {
   "cell_type": "code",
   "execution_count": 69,
   "id": "501246a8",
   "metadata": {},
   "outputs": [
    {
     "data": {
      "text/plain": [
       "['/Users/xalmax/phd/acl2017-neural_end2end_am/data/conll/Paragraph_Level/dev.dat.abs',\n",
       " '/Users/xalmax/phd/acl2017-neural_end2end_am/data/conll/Paragraph_Level/train.dat.abs',\n",
       " '/Users/xalmax/phd/acl2017-neural_end2end_am/data/conll/Paragraph_Level/test.dat.abs']"
      ]
     },
     "execution_count": 69,
     "metadata": {},
     "output_type": "execute_result"
    }
   ],
   "source": [
    "import os\n",
    "\n",
    "essays = \"/Users/xalmax/phd/acl2017-neural_end2end_am/data/conll/Essay_Level/\"\n",
    "paras = \"/Users/xalmax/phd/acl2017-neural_end2end_am/data/conll/Paragraph_Level/\"\n",
    "\n",
    "essay_files = [os.path.join(essays,f) for f in os.listdir(essays) if \"abs\" in f]\n",
    "para_files = [os.path.join(paras,f) for f in os.listdir(paras) if \"abs\" in f]\n",
    "para_files"
   ]
  },
  {
   "cell_type": "code",
   "execution_count": 81,
   "id": "df9dccf8",
   "metadata": {},
   "outputs": [],
   "source": [
    "import pandas as pd\n",
    "\n",
    "\n",
    "def check_data(df):\n",
    "\n",
    "    \n",
    "    assert set(df[\"label\"].to_list()) == labels, \"labels do not match\"\n",
    "    assert set(df[\"link_label\"].to_list()) == link_labels,  \"link_labels do not match\"\n",
    "\n",
    "def read_conll_data(file_path:str):\n",
    "    \n",
    "    set_labels = set(['Claim', 'MajorClaim', None, 'Premise'])\n",
    "    set_link_labels = set(['Attack', None, 'Support'])\n",
    "        \n",
    "    print(file_path)\n",
    "    \n",
    "    rows = [] #df = pd.read_csv(file_path, sep = \"\\t\", header = None)\n",
    "    \n",
    "    id = 0\n",
    "    with open(file_path, \"r\") as f:\n",
    "        for line in f:\n",
    "            \n",
    "            line = line.strip(\"\\n\")\n",
    "\n",
    "            if not line:\n",
    "                id += 1\n",
    "                continue\n",
    "                \n",
    "            else:\n",
    "                \n",
    "                token_id, token_str, label = line.split(\"\\t\")\n",
    "\n",
    "                row = {\n",
    "                            \"id\" : id,\n",
    "                            \"token_id\": token_id,\n",
    "                            \"str\": token_str,\n",
    "                            \"seg\": \"O\",\n",
    "                            \"label\": \"None\",\n",
    "                            \"link\": \"None\",\n",
    "                            \"link_label\": \"root\",\n",
    "                            }\n",
    "    \n",
    "                \n",
    "                if label == \"O\":\n",
    "                    rows.append(row)\n",
    "                    continue\n",
    "                                \n",
    "                IOB, complex_label = label.split(\"-\")\n",
    "                row[\"seg\"] = IOB\n",
    "\n",
    "                labels = complex_label.split(\":\")\n",
    "\n",
    "                if labels[0] == \"MajorClaim\":\n",
    "                    row[\"label\"] = labels[0]\n",
    "\n",
    "                elif labels[0] == \"Claim\":\n",
    "                    row[\"label\"] =  labels[0]\n",
    "                    row[\"link_label\"] =labels[1]\n",
    "\n",
    "                else:\n",
    "                    row[\"label\"] =  labels[0]\n",
    "                    row[\"link\"] = labels[1]\n",
    "                    row[\"link_label\"] =labels[2]\n",
    "\n",
    "                rows.append(row)\n",
    "    \n",
    "  \n",
    "    return pd.DataFrame(rows)\n",
    "            "
   ]
  },
  {
   "cell_type": "code",
   "execution_count": 82,
   "id": "ed332931",
   "metadata": {},
   "outputs": [
    {
     "name": "stdout",
     "output_type": "stream",
     "text": [
      "/Users/xalmax/phd/acl2017-neural_end2end_am/data/conll/Paragraph_Level/dev.dat.abs\n"
     ]
    },
    {
     "data": {
      "text/html": [
       "<div>\n",
       "<style scoped>\n",
       "    .dataframe tbody tr th:only-of-type {\n",
       "        vertical-align: middle;\n",
       "    }\n",
       "\n",
       "    .dataframe tbody tr th {\n",
       "        vertical-align: top;\n",
       "    }\n",
       "\n",
       "    .dataframe thead th {\n",
       "        text-align: right;\n",
       "    }\n",
       "</style>\n",
       "<table border=\"1\" class=\"dataframe\">\n",
       "  <thead>\n",
       "    <tr style=\"text-align: right;\">\n",
       "      <th></th>\n",
       "      <th>id</th>\n",
       "      <th>token_id</th>\n",
       "      <th>str</th>\n",
       "      <th>seg</th>\n",
       "      <th>label</th>\n",
       "      <th>link</th>\n",
       "      <th>link_label</th>\n",
       "    </tr>\n",
       "  </thead>\n",
       "  <tbody>\n",
       "    <tr>\n",
       "      <th>0</th>\n",
       "      <td>0</td>\n",
       "      <td>1</td>\n",
       "      <td>Advance</td>\n",
       "      <td>O</td>\n",
       "      <td>None</td>\n",
       "      <td>None</td>\n",
       "      <td>root</td>\n",
       "    </tr>\n",
       "    <tr>\n",
       "      <th>1</th>\n",
       "      <td>0</td>\n",
       "      <td>2</td>\n",
       "      <td>in</td>\n",
       "      <td>O</td>\n",
       "      <td>None</td>\n",
       "      <td>None</td>\n",
       "      <td>root</td>\n",
       "    </tr>\n",
       "    <tr>\n",
       "      <th>2</th>\n",
       "      <td>0</td>\n",
       "      <td>3</td>\n",
       "      <td>transportation</td>\n",
       "      <td>O</td>\n",
       "      <td>None</td>\n",
       "      <td>None</td>\n",
       "      <td>root</td>\n",
       "    </tr>\n",
       "    <tr>\n",
       "      <th>3</th>\n",
       "      <td>0</td>\n",
       "      <td>4</td>\n",
       "      <td>and</td>\n",
       "      <td>O</td>\n",
       "      <td>None</td>\n",
       "      <td>None</td>\n",
       "      <td>root</td>\n",
       "    </tr>\n",
       "    <tr>\n",
       "      <th>4</th>\n",
       "      <td>0</td>\n",
       "      <td>5</td>\n",
       "      <td>communication</td>\n",
       "      <td>O</td>\n",
       "      <td>None</td>\n",
       "      <td>None</td>\n",
       "      <td>root</td>\n",
       "    </tr>\n",
       "    <tr>\n",
       "      <th>...</th>\n",
       "      <td>...</td>\n",
       "      <td>...</td>\n",
       "      <td>...</td>\n",
       "      <td>...</td>\n",
       "      <td>...</td>\n",
       "      <td>...</td>\n",
       "      <td>...</td>\n",
       "    </tr>\n",
       "    <tr>\n",
       "      <th>12652</th>\n",
       "      <td>198</td>\n",
       "      <td>32</td>\n",
       "      <td>of</td>\n",
       "      <td>I</td>\n",
       "      <td>MajorClaim</td>\n",
       "      <td>None</td>\n",
       "      <td>root</td>\n",
       "    </tr>\n",
       "    <tr>\n",
       "      <th>12653</th>\n",
       "      <td>198</td>\n",
       "      <td>33</td>\n",
       "      <td>well</td>\n",
       "      <td>I</td>\n",
       "      <td>MajorClaim</td>\n",
       "      <td>None</td>\n",
       "      <td>root</td>\n",
       "    </tr>\n",
       "    <tr>\n",
       "      <th>12654</th>\n",
       "      <td>198</td>\n",
       "      <td>34</td>\n",
       "      <td>-</td>\n",
       "      <td>I</td>\n",
       "      <td>MajorClaim</td>\n",
       "      <td>None</td>\n",
       "      <td>root</td>\n",
       "    </tr>\n",
       "    <tr>\n",
       "      <th>12655</th>\n",
       "      <td>198</td>\n",
       "      <td>35</td>\n",
       "      <td>being</td>\n",
       "      <td>I</td>\n",
       "      <td>MajorClaim</td>\n",
       "      <td>None</td>\n",
       "      <td>root</td>\n",
       "    </tr>\n",
       "    <tr>\n",
       "      <th>12656</th>\n",
       "      <td>198</td>\n",
       "      <td>36</td>\n",
       "      <td>.</td>\n",
       "      <td>O</td>\n",
       "      <td>None</td>\n",
       "      <td>None</td>\n",
       "      <td>root</td>\n",
       "    </tr>\n",
       "  </tbody>\n",
       "</table>\n",
       "<p>12657 rows × 7 columns</p>\n",
       "</div>"
      ],
      "text/plain": [
       "        id token_id             str seg       label  link link_label\n",
       "0        0        1         Advance   O        None  None       root\n",
       "1        0        2              in   O        None  None       root\n",
       "2        0        3  transportation   O        None  None       root\n",
       "3        0        4             and   O        None  None       root\n",
       "4        0        5   communication   O        None  None       root\n",
       "...    ...      ...             ...  ..         ...   ...        ...\n",
       "12652  198       32              of   I  MajorClaim  None       root\n",
       "12653  198       33            well   I  MajorClaim  None       root\n",
       "12654  198       34               -   I  MajorClaim  None       root\n",
       "12655  198       35           being   I  MajorClaim  None       root\n",
       "12656  198       36               .   O        None  None       root\n",
       "\n",
       "[12657 rows x 7 columns]"
      ]
     },
     "execution_count": 82,
     "metadata": {},
     "output_type": "execute_result"
    }
   ],
   "source": [
    "read_conll_data(para_files[0])"
   ]
  },
  {
   "cell_type": "code",
   "execution_count": 25,
   "id": "cc204b5a",
   "metadata": {},
   "outputs": [
    {
     "data": {
      "text/plain": [
       "['h']"
      ]
     },
     "execution_count": 25,
     "metadata": {},
     "output_type": "execute_result"
    }
   ],
   "source": [
    "l = \"h\"\n",
    "l.split(\":\")"
   ]
  },
  {
   "cell_type": "code",
   "execution_count": null,
   "id": "da461920",
   "metadata": {},
   "outputs": [],
   "source": []
  }
 ],
 "metadata": {
  "kernelspec": {
   "display_name": "Python 3",
   "language": "python",
   "name": "python3"
  },
  "language_info": {
   "codemirror_mode": {
    "name": "ipython",
    "version": 3
   },
   "file_extension": ".py",
   "mimetype": "text/x-python",
   "name": "python",
   "nbconvert_exporter": "python",
   "pygments_lexer": "ipython3",
   "version": "3.7.4"
  }
 },
 "nbformat": 4,
 "nbformat_minor": 5
}
