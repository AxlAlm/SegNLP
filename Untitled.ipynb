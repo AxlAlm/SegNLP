{
 "cells": [
  {
   "cell_type": "code",
   "execution_count": 1,
   "id": "7280edb7",
   "metadata": {},
   "outputs": [
    {
     "name": "stderr",
     "output_type": "stream",
     "text": [
      "Using backend: pytorch\n"
     ]
    },
    {
     "name": "stdout",
     "output_type": "stream",
     "text": [
      "[0.6, 0.7, 0.9, 0.5, 0.4]\n",
      "[0.5, 0.69, 0.89, 0.49, 0.39]\n"
     ]
    }
   ],
   "source": [
    "from segnlp.utils.stat_sig import compare_dists\n",
    "import numpy as np\n",
    "\n",
    "a = [0.6,0.7,0.9,0.5,0.4]\n",
    "b = [0.5,0.69,0.89,0.49,0.39]\n",
    "print(a)\n",
    "print(b)"
   ]
  },
  {
   "cell_type": "code",
   "execution_count": 2,
   "id": "138f5409",
   "metadata": {},
   "outputs": [
    {
     "name": "stdout",
     "output_type": "stream",
     "text": [
      "[0.9 0.7 0.6 0.5 0.4]\n",
      "[0.89 0.69 0.5  0.49 0.39]\n",
      "[ True  True  True  True  True]\n",
      "5 5\n",
      "1.0\n"
     ]
    },
    {
     "name": "stderr",
     "output_type": "stream",
     "text": [
      "Bootstrap iterations: 100%|██████████| 1000/1000 [00:25<00:00, 38.59it/s]\n"
     ]
    },
    {
     "data": {
      "text/plain": [
       "(False, 1)"
      ]
     },
     "execution_count": 2,
     "metadata": {},
     "output_type": "execute_result"
    }
   ],
   "source": [
    "compare_dists(a,b)"
   ]
  },
  {
   "cell_type": "code",
   "execution_count": 9,
   "id": "5abb37b6",
   "metadata": {},
   "outputs": [
    {
     "data": {
      "text/plain": [
       "[('A', 'B'), ('A', 'C'), ('B', 'C')]"
      ]
     },
     "execution_count": 9,
     "metadata": {},
     "output_type": "execute_result"
    }
   ],
   "source": [
    "import itertools\n",
    "\n",
    "combs = list(itertools.combinations([\"A\",\"B\",\"C\"], r = 2))\n",
    "combs"
   ]
  },
  {
   "cell_type": "code",
   "execution_count": null,
   "id": "d20e5ea2",
   "metadata": {},
   "outputs": [],
   "source": []
  }
 ],
 "metadata": {
  "kernelspec": {
   "display_name": "Python 3",
   "language": "python",
   "name": "python3"
  },
  "language_info": {
   "codemirror_mode": {
    "name": "ipython",
    "version": 3
   },
   "file_extension": ".py",
   "mimetype": "text/x-python",
   "name": "python",
   "nbconvert_exporter": "python",
   "pygments_lexer": "ipython3",
   "version": "3.7.4"
  }
 },
 "nbformat": 4,
 "nbformat_minor": 5
}
