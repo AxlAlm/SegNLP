{
 "cells": [
  {
   "cell_type": "code",
   "execution_count": null,
   "id": "2e6bc410",
   "metadata": {},
   "outputs": [],
   "source": [
    "import pylab as p\n",
    "import dgl\n",
    "import networkx as nx\n",
    "\n",
    "\n",
    "\n",
    "n = [0, 1, 2, 3, 4, 5, 6, 7, 8, 9]\n",
    "e = [3, 3, 3, 3, 5, 3, 5, 8, 5, 3]\n",
    "G = dgl.graph((n, e)).to_networkx().to_undirected()\n",
    "nx.draw(G)\n",
    "p.show()\n"
   ]
  },
  {
   "cell_type": "code",
   "execution_count": null,
   "id": "1bdec7bd",
   "metadata": {},
   "outputs": [],
   "source": [
    "nx.is_tree(G)"
   ]
  },
  {
   "cell_type": "code",
   "execution_count": null,
   "id": "2a067867",
   "metadata": {},
   "outputs": [],
   "source": [
    "nx.is_connected(G)"
   ]
  },
  {
   "cell_type": "code",
   "execution_count": null,
   "id": "fdb9d247",
   "metadata": {},
   "outputs": [],
   "source": [
    "n = [0, 1, 2, 3, 4, 5, 6, 7, 8, 9, 10, 11, 12, 13, 14, 15, 16, 17, 18, 19, 20, 21, 22, 23, 24, 25, 26, 27, 28, 29, 30, 31, 32, 33, 34, 35, 36] \n",
    "e = [9, 0, 0, 4, 2, 4, 8, 8, 5, 8, 12, 12, 9, 12, 15, 13, 15, 19, 17, 16, 8, 22, 27, 22, 25, 23, 27, 27, 27, 30, 27, 30, 30, 27, 27, 34, 27]"
   ]
  },
  {
   "cell_type": "code",
   "execution_count": null,
   "id": "5603a206",
   "metadata": {},
   "outputs": [],
   "source": [
    "G = dgl.graph((n, e)).to_networkx().to_undirected()\n",
    "nx.draw(G)\n",
    "p.show()"
   ]
  },
  {
   "cell_type": "code",
   "execution_count": null,
   "id": "3c342cb0",
   "metadata": {},
   "outputs": [],
   "source": [
    "nx.shortest_path(G, source = 20 , target = 8)"
   ]
  },
  {
   "cell_type": "code",
   "execution_count": null,
   "id": "569879fc",
   "metadata": {},
   "outputs": [],
   "source": [
    "list(nx.connected_components(G))"
   ]
  },
  {
   "cell_type": "code",
   "execution_count": null,
   "id": "58e34160",
   "metadata": {},
   "outputs": [],
   "source": [
    "doc = \"\"\"With the rapid development of the standard of people's life, increasing numbers of animal experiments are done, new medicines and foods, for instance. Some opponents says that it is cruel to animals and nature, however, I believe that no sensible person will deny that it is a dramatically cruel activity to humanity if the latest foods or medicines are allowed to sold without testing on animals. In my essay, I will discuss this issue from twofold aspects.\n",
    "First of all, as we all know, animals are friendly and vital for people, because if there are no animals in the world, the balance of nature will broke down, and we, human, will die out as well. The animal experiments accelerate the vanishing of some categories of animals. In other words, doing this various testing is a hazard of human's future and next generation.\n",
    "Though animal experiments have negative impact on the natural balance, it is necessary to make sure that people can live a long life. To begin with, it is indisputable that every new kind food or pill may be noxious, and scientists must do something to insure that the new invention benefits people instead of making people ill or even dying. The new foods or medicines are invented to promote the quantity of human's life. Thus even if they are volunteers; they cannot take the place of animals to test the new foods or medicines. Furthermore, it also have potentially harm for human's health without any testing.\n",
    "To sum up, I reaffirm that although there is some disadvantages of animals' profits, the merits of animal experiments still outweigh the demerits.\"\"\""
   ]
  },
  {
   "cell_type": "code",
   "execution_count": null,
   "id": "1598355d",
   "metadata": {},
   "outputs": [],
   "source": [
    "import spacy\n",
    "\n",
    "nlp = spacy.load('en_core_web_lg')\n",
    "doc = nlp(doc)"
   ]
  },
  {
   "cell_type": "code",
   "execution_count": null,
   "id": "392be9bd",
   "metadata": {},
   "outputs": [],
   "source": [
    "\n",
    "for i,sent in enumerate(doc.sents):\n",
    "    print(str(sent))\n",
    "    "
   ]
  },
  {
   "cell_type": "code",
   "execution_count": 69,
   "id": "491e7e3c",
   "metadata": {},
   "outputs": [
    {
     "data": {
      "text/plain": [
       "['/Users/xalmax/phd/acl2017-neural_end2end_am/data/conll/Paragraph_Level/dev.dat.abs',\n",
       " '/Users/xalmax/phd/acl2017-neural_end2end_am/data/conll/Paragraph_Level/train.dat.abs',\n",
       " '/Users/xalmax/phd/acl2017-neural_end2end_am/data/conll/Paragraph_Level/test.dat.abs']"
      ]
     },
     "execution_count": 69,
     "metadata": {},
     "output_type": "execute_result"
    }
   ],
   "source": [
    "import os\n",
    "\n",
    "essays = \"/Users/xalmax/phd/acl2017-neural_end2end_am/data/conll/Essay_Level/\"\n",
    "paras = \"/Users/xalmax/phd/acl2017-neural_end2end_am/data/conll/Paragraph_Level/\"\n",
    "\n",
    "essay_files = [os.path.join(essays,f) for f in os.listdir(essays) if \"abs\" in f]\n",
    "para_files = [os.path.join(paras,f) for f in os.listdir(paras) if \"abs\" in f]\n",
    "para_files"
   ]
  },
  {
   "cell_type": "code",
   "execution_count": 81,
   "id": "4f2ec1b7",
   "metadata": {},
   "outputs": [],
   "source": [
    "import pandas as pd\n",
    "\n",
    "\n",
    "def check_data(df):\n",
    "\n",
    "    \n",
    "    assert set(df[\"label\"].to_list()) == labels, \"labels do not match\"\n",
    "    assert set(df[\"link_label\"].to_list()) == link_labels,  \"link_labels do not match\"\n",
    "\n",
    "def read_conll_data(file_path:str):\n",
    "    \n",
    "    set_labels = set(['Claim', 'MajorClaim', None, 'Premise'])\n",
    "    set_link_labels = set(['Attack', None, 'Support'])\n",
    "        \n",
    "    print(file_path)\n",
    "    \n",
    "    rows = [] #df = pd.read_csv(file_path, sep = \"\\t\", header = None)\n",
    "    \n",
    "    id = 0\n",
    "    with open(file_path, \"r\") as f:\n",
    "        for line in f:\n",
    "            \n",
    "            line = line.strip(\"\\n\")\n",
    "\n",
    "            if not line:\n",
    "                id += 1\n",
    "                continue\n",
    "                \n",
    "            else:\n",
    "                \n",
    "                token_id, token_str, label = line.split(\"\\t\")\n",
    "\n",
    "                row = {\n",
    "                            \"id\" : id,\n",
    "                            \"token_id\": token_id,\n",
    "                            \"str\": token_str,\n",
    "                            \"seg\": \"O\",\n",
    "                            \"label\": \"None\",\n",
    "                            \"link\": \"None\",\n",
    "                            \"link_label\": \"root\",\n",
    "                            }\n",
    "    \n",
    "                \n",
    "                if label == \"O\":\n",
    "                    rows.append(row)\n",
    "                    continue\n",
    "                                \n",
    "                IOB, complex_label = label.split(\"-\")\n",
    "                row[\"seg\"] = IOB\n",
    "\n",
    "                labels = complex_label.split(\":\")\n",
    "\n",
    "                if labels[0] == \"MajorClaim\":\n",
    "                    row[\"label\"] = labels[0]\n",
    "\n",
    "                elif labels[0] == \"Claim\":\n",
    "                    row[\"label\"] =  labels[0]\n",
    "                    row[\"link_label\"] =labels[1]\n",
    "\n",
    "                else:\n",
    "                    row[\"label\"] =  labels[0]\n",
    "                    row[\"link\"] = labels[1]\n",
    "                    row[\"link_label\"] =labels[2]\n",
    "\n",
    "                rows.append(row)\n",
    "    \n",
    "  \n",
    "    return pd.DataFrame(rows)\n",
    "            "
   ]
  },
  {
   "cell_type": "code",
   "execution_count": 82,
   "id": "2860b825",
   "metadata": {},
   "outputs": [
    {
     "name": "stdout",
     "output_type": "stream",
     "text": [
      "/Users/xalmax/phd/acl2017-neural_end2end_am/data/conll/Paragraph_Level/dev.dat.abs\n"
     ]
    },
    {
     "data": {
      "text/html": [
       "<div>\n",
       "<style scoped>\n",
       "    .dataframe tbody tr th:only-of-type {\n",
       "        vertical-align: middle;\n",
       "    }\n",
       "\n",
       "    .dataframe tbody tr th {\n",
       "        vertical-align: top;\n",
       "    }\n",
       "\n",
       "    .dataframe thead th {\n",
       "        text-align: right;\n",
       "    }\n",
       "</style>\n",
       "<table border=\"1\" class=\"dataframe\">\n",
       "  <thead>\n",
       "    <tr style=\"text-align: right;\">\n",
       "      <th></th>\n",
       "      <th>id</th>\n",
       "      <th>token_id</th>\n",
       "      <th>str</th>\n",
       "      <th>seg</th>\n",
       "      <th>label</th>\n",
       "      <th>link</th>\n",
       "      <th>link_label</th>\n",
       "    </tr>\n",
       "  </thead>\n",
       "  <tbody>\n",
       "    <tr>\n",
       "      <th>0</th>\n",
       "      <td>0</td>\n",
       "      <td>1</td>\n",
       "      <td>Advance</td>\n",
       "      <td>O</td>\n",
       "      <td>None</td>\n",
       "      <td>None</td>\n",
       "      <td>root</td>\n",
       "    </tr>\n",
       "    <tr>\n",
       "      <th>1</th>\n",
       "      <td>0</td>\n",
       "      <td>2</td>\n",
       "      <td>in</td>\n",
       "      <td>O</td>\n",
       "      <td>None</td>\n",
       "      <td>None</td>\n",
       "      <td>root</td>\n",
       "    </tr>\n",
       "    <tr>\n",
       "      <th>2</th>\n",
       "      <td>0</td>\n",
       "      <td>3</td>\n",
       "      <td>transportation</td>\n",
       "      <td>O</td>\n",
       "      <td>None</td>\n",
       "      <td>None</td>\n",
       "      <td>root</td>\n",
       "    </tr>\n",
       "    <tr>\n",
       "      <th>3</th>\n",
       "      <td>0</td>\n",
       "      <td>4</td>\n",
       "      <td>and</td>\n",
       "      <td>O</td>\n",
       "      <td>None</td>\n",
       "      <td>None</td>\n",
       "      <td>root</td>\n",
       "    </tr>\n",
       "    <tr>\n",
       "      <th>4</th>\n",
       "      <td>0</td>\n",
       "      <td>5</td>\n",
       "      <td>communication</td>\n",
       "      <td>O</td>\n",
       "      <td>None</td>\n",
       "      <td>None</td>\n",
       "      <td>root</td>\n",
       "    </tr>\n",
       "    <tr>\n",
       "      <th>...</th>\n",
       "      <td>...</td>\n",
       "      <td>...</td>\n",
       "      <td>...</td>\n",
       "      <td>...</td>\n",
       "      <td>...</td>\n",
       "      <td>...</td>\n",
       "      <td>...</td>\n",
       "    </tr>\n",
       "    <tr>\n",
       "      <th>12652</th>\n",
       "      <td>198</td>\n",
       "      <td>32</td>\n",
       "      <td>of</td>\n",
       "      <td>I</td>\n",
       "      <td>MajorClaim</td>\n",
       "      <td>None</td>\n",
       "      <td>root</td>\n",
       "    </tr>\n",
       "    <tr>\n",
       "      <th>12653</th>\n",
       "      <td>198</td>\n",
       "      <td>33</td>\n",
       "      <td>well</td>\n",
       "      <td>I</td>\n",
       "      <td>MajorClaim</td>\n",
       "      <td>None</td>\n",
       "      <td>root</td>\n",
       "    </tr>\n",
       "    <tr>\n",
       "      <th>12654</th>\n",
       "      <td>198</td>\n",
       "      <td>34</td>\n",
       "      <td>-</td>\n",
       "      <td>I</td>\n",
       "      <td>MajorClaim</td>\n",
       "      <td>None</td>\n",
       "      <td>root</td>\n",
       "    </tr>\n",
       "    <tr>\n",
       "      <th>12655</th>\n",
       "      <td>198</td>\n",
       "      <td>35</td>\n",
       "      <td>being</td>\n",
       "      <td>I</td>\n",
       "      <td>MajorClaim</td>\n",
       "      <td>None</td>\n",
       "      <td>root</td>\n",
       "    </tr>\n",
       "    <tr>\n",
       "      <th>12656</th>\n",
       "      <td>198</td>\n",
       "      <td>36</td>\n",
       "      <td>.</td>\n",
       "      <td>O</td>\n",
       "      <td>None</td>\n",
       "      <td>None</td>\n",
       "      <td>root</td>\n",
       "    </tr>\n",
       "  </tbody>\n",
       "</table>\n",
       "<p>12657 rows × 7 columns</p>\n",
       "</div>"
      ],
      "text/plain": [
       "        id token_id             str seg       label  link link_label\n",
       "0        0        1         Advance   O        None  None       root\n",
       "1        0        2              in   O        None  None       root\n",
       "2        0        3  transportation   O        None  None       root\n",
       "3        0        4             and   O        None  None       root\n",
       "4        0        5   communication   O        None  None       root\n",
       "...    ...      ...             ...  ..         ...   ...        ...\n",
       "12652  198       32              of   I  MajorClaim  None       root\n",
       "12653  198       33            well   I  MajorClaim  None       root\n",
       "12654  198       34               -   I  MajorClaim  None       root\n",
       "12655  198       35           being   I  MajorClaim  None       root\n",
       "12656  198       36               .   O        None  None       root\n",
       "\n",
       "[12657 rows x 7 columns]"
      ]
     },
     "execution_count": 82,
     "metadata": {},
     "output_type": "execute_result"
    }
   ],
   "source": [
    "read_conll_data(para_files[0])"
   ]
  },
  {
   "cell_type": "code",
   "execution_count": 25,
   "id": "8237d2eb",
   "metadata": {},
   "outputs": [
    {
     "data": {
      "text/plain": [
       "['h']"
      ]
     },
     "execution_count": 25,
     "metadata": {},
     "output_type": "execute_result"
    }
   ],
   "source": [
    "l = \"h\"\n",
    "l.split(\":\")"
   ]
  },
  {
   "cell_type": "code",
   "execution_count": 98,
   "id": "634bbfe3",
   "metadata": {},
   "outputs": [],
   "source": [
    "from segnlp.utils import ScheduleSampling\n",
    "\n",
    "\n",
    "# if we want to use ground truth in segmentation during training we can use\n",
    "# the following variable value to based on epoch use ground truth segmentation\n",
    "use_target_segs = ScheduleSampling(\n",
    "                                    schedule=\"inverse_sig\",\n",
    "                                    k=None\n",
    "                                    )"
   ]
  },
  {
   "cell_type": "code",
   "execution_count": 99,
   "id": "8b486924",
   "metadata": {},
   "outputs": [
    {
     "ename": "TypeError",
     "evalue": "unsupported operand type(s) for /: 'int' and 'NoneType'",
     "output_type": "error",
     "traceback": [
      "\u001b[0;31m---------------------------------------------------------------------------\u001b[0m",
      "\u001b[0;31mTypeError\u001b[0m                                 Traceback (most recent call last)",
      "\u001b[0;32m<ipython-input-99-35311e66606f>\u001b[0m in \u001b[0;36m<module>\u001b[0;34m\u001b[0m\n\u001b[0;32m----> 1\u001b[0;31m \u001b[0muse_target_segs\u001b[0m\u001b[0;34m(\u001b[0m\u001b[0;36m1\u001b[0m\u001b[0;34m)\u001b[0m\u001b[0;34m\u001b[0m\u001b[0;34m\u001b[0m\u001b[0m\n\u001b[0m",
      "\u001b[0;32m~/phd/SegNLP/segnlp/utils/schedule_sample.py\u001b[0m in \u001b[0;36m__call__\u001b[0;34m(self, epoch)\u001b[0m\n\u001b[1;32m     53\u001b[0m \u001b[0;34m\u001b[0m\u001b[0m\n\u001b[1;32m     54\u001b[0m     \u001b[0;32mdef\u001b[0m \u001b[0m__call__\u001b[0m\u001b[0;34m(\u001b[0m\u001b[0mself\u001b[0m\u001b[0;34m,\u001b[0m \u001b[0mepoch\u001b[0m\u001b[0;34m)\u001b[0m\u001b[0;34m:\u001b[0m\u001b[0;34m\u001b[0m\u001b[0;34m\u001b[0m\u001b[0m\n\u001b[0;32m---> 55\u001b[0;31m         \u001b[0mepsilon\u001b[0m \u001b[0;34m=\u001b[0m \u001b[0mself\u001b[0m\u001b[0;34m.\u001b[0m\u001b[0mcalc_sampling_prob\u001b[0m\u001b[0;34m(\u001b[0m\u001b[0mepoch\u001b[0m\u001b[0;34m)\u001b[0m\u001b[0;34m\u001b[0m\u001b[0;34m\u001b[0m\u001b[0m\n\u001b[0m\u001b[1;32m     56\u001b[0m         \u001b[0mcoin_flip\u001b[0m \u001b[0;34m=\u001b[0m \u001b[0mfloor\u001b[0m\u001b[0;34m(\u001b[0m\u001b[0mrandom\u001b[0m\u001b[0;34m(\u001b[0m\u001b[0;34m)\u001b[0m \u001b[0;34m*\u001b[0m \u001b[0;36m10\u001b[0m\u001b[0;34m)\u001b[0m \u001b[0;34m/\u001b[0m \u001b[0;36m10\u001b[0m\u001b[0;34m\u001b[0m\u001b[0;34m\u001b[0m\u001b[0m\n\u001b[1;32m     57\u001b[0m \u001b[0;34m\u001b[0m\u001b[0m\n",
      "\u001b[0;32m~/phd/SegNLP/segnlp/utils/schedule_sample.py\u001b[0m in \u001b[0;36m<lambda>\u001b[0;34m(epoch)\u001b[0m\n\u001b[1;32m     44\u001b[0m \u001b[0;34m\u001b[0m\u001b[0m\n\u001b[1;32m     45\u001b[0m         \u001b[0;32melif\u001b[0m \u001b[0mschedule\u001b[0m \u001b[0;34m==\u001b[0m \u001b[0;34m\"inverse_sig\"\u001b[0m\u001b[0;34m:\u001b[0m\u001b[0;34m\u001b[0m\u001b[0;34m\u001b[0m\u001b[0m\n\u001b[0;32m---> 46\u001b[0;31m             \u001b[0mepsilon\u001b[0m \u001b[0;34m=\u001b[0m \u001b[0;32mlambda\u001b[0m \u001b[0mepoch\u001b[0m\u001b[0;34m:\u001b[0m \u001b[0mk\u001b[0m \u001b[0;34m/\u001b[0m \u001b[0;34m(\u001b[0m\u001b[0mk\u001b[0m \u001b[0;34m+\u001b[0m \u001b[0mexp\u001b[0m\u001b[0;34m(\u001b[0m\u001b[0mepoch\u001b[0m \u001b[0;34m/\u001b[0m \u001b[0mk\u001b[0m\u001b[0;34m)\u001b[0m\u001b[0;34m)\u001b[0m  \u001b[0;31m# noqa: E731\u001b[0m\u001b[0;34m\u001b[0m\u001b[0;34m\u001b[0m\u001b[0m\n\u001b[0m\u001b[1;32m     47\u001b[0m \u001b[0;34m\u001b[0m\u001b[0m\n\u001b[1;32m     48\u001b[0m         \u001b[0;32melse\u001b[0m\u001b[0;34m:\u001b[0m\u001b[0;34m\u001b[0m\u001b[0;34m\u001b[0m\u001b[0m\n",
      "\u001b[0;31mTypeError\u001b[0m: unsupported operand type(s) for /: 'int' and 'NoneType'"
     ]
    }
   ],
   "source": [
    "use_target_segs(1)"
   ]
  },
  {
   "cell_type": "code",
   "execution_count": 111,
   "id": "046d4001",
   "metadata": {},
   "outputs": [],
   "source": [
    "from dataclasses import dataclass\n",
    "\n",
    "\n",
    "# pytorch\n",
    "from torch import Tensor\n",
    "\n",
    "\n",
    "@dataclass\n",
    "class Output:\n",
    "    '''Class for keeping model outputs such as logits, preds and tensors'''\n",
    "    name: str\n",
    "    value: Tensor\n",
    "\n",
    "\n",
    "@dataclass\n",
    "class CLFOutput:\n",
    "    '''Class for keeping model logits and preds'''\n",
    "    task: str\n",
    "    preds: Tensor = None\n",
    "    logits: Tensor = None\n",
    "\n",
    "    def __add__(self, other):\n",
    "        \n",
    "        if not isinstance(other, list):\n",
    "            other = [other]\n",
    "        \n",
    "        return [self] + other\n",
    " "
   ]
  },
  {
   "cell_type": "code",
   "execution_count": 112,
   "id": "9bb4753e",
   "metadata": {},
   "outputs": [
    {
     "data": {
      "text/plain": [
       "CLFOutput(task='ok', preds='preds', logits='logis')"
      ]
     },
     "execution_count": 112,
     "metadata": {},
     "output_type": "execute_result"
    }
   ],
   "source": [
    "d = CLFOutput(\"ok\", \"preds\", \"logis\")\n",
    "d"
   ]
  },
  {
   "cell_type": "code",
   "execution_count": 114,
   "id": "30e738bd",
   "metadata": {},
   "outputs": [
    {
     "data": {
      "text/plain": [
       "[CLFOutput(task='ok', preds='preds', logits='logis'),\n",
       " CLFOutput(task='ok', preds='preds', logits='logis')]"
      ]
     },
     "execution_count": 114,
     "metadata": {},
     "output_type": "execute_result"
    }
   ],
   "source": [
    "b = d +d\n",
    "b"
   ]
  },
  {
   "cell_type": "code",
   "execution_count": 115,
   "id": "36da2ff1",
   "metadata": {},
   "outputs": [
    {
     "data": {
      "text/plain": [
       "[CLFOutput(task='ok', preds='preds', logits='logis'),\n",
       " CLFOutput(task='ok', preds='preds', logits='logis')]"
      ]
     },
     "execution_count": 115,
     "metadata": {},
     "output_type": "execute_result"
    }
   ],
   "source": []
  },
  {
   "cell_type": "code",
   "execution_count": 116,
   "id": "816137c6",
   "metadata": {},
   "outputs": [
    {
     "data": {
      "text/plain": [
       "[CLFOutput(task='ok', preds='preds', logits='logis'),\n",
       " CLFOutput(task='ok', preds='preds', logits='logis'),\n",
       " CLFOutput(task='ok', preds='preds', logits='logis')]"
      ]
     },
     "execution_count": 116,
     "metadata": {},
     "output_type": "execute_result"
    }
   ],
   "source": [
    "d + b"
   ]
  },
  {
   "cell_type": "code",
   "execution_count": 119,
   "id": "94149923",
   "metadata": {},
   "outputs": [
    {
     "ename": "TypeError",
     "evalue": "unhashable type: 'dict'",
     "output_type": "error",
     "traceback": [
      "\u001b[0;31m---------------------------------------------------------------------------\u001b[0m",
      "\u001b[0;31mTypeError\u001b[0m                                 Traceback (most recent call last)",
      "\u001b[0;32m<ipython-input-119-e45d096a5c67>\u001b[0m in \u001b[0;36m<module>\u001b[0;34m\u001b[0m\n\u001b[0;32m----> 1\u001b[0;31m \u001b[0mhash\u001b[0m\u001b[0;34m(\u001b[0m\u001b[0;34m(\u001b[0m\u001b[0;34m\"hello\"\u001b[0m\u001b[0;34m,\u001b[0m \u001b[0;34m{\u001b[0m\u001b[0;34m\"hello\"\u001b[0m\u001b[0;34m:\u001b[0m\u001b[0;32mTrue\u001b[0m\u001b[0;34m}\u001b[0m\u001b[0;34m)\u001b[0m\u001b[0;34m)\u001b[0m\u001b[0;34m\u001b[0m\u001b[0;34m\u001b[0m\u001b[0m\n\u001b[0m",
      "\u001b[0;31mTypeError\u001b[0m: unhashable type: 'dict'"
     ]
    }
   ],
   "source": [
    "k = (\"hello\", {\"hello\":True})="
   ]
  },
  {
   "cell_type": "code",
   "execution_count": 121,
   "id": "6eb5c3b1",
   "metadata": {},
   "outputs": [
    {
     "name": "stdout",
     "output_type": "stream",
     "text": [
      "('hello', ('lol', True))\n"
     ]
    }
   ],
   "source": [
    "def cached_call(*args, **kwargs):\n",
    "    key = args  + tuple(sorted(kwargs.items()))\n",
    "    print(key)\n",
    "\n",
    "\n",
    "cached_call(\"hello\", lol= True)"
   ]
  },
  {
   "cell_type": "code",
   "execution_count": 130,
   "id": "ad778dd0",
   "metadata": {},
   "outputs": [
    {
     "data": {
      "text/plain": [
       "array([[0.3, nan, 3.2],\n",
       "       [0.3, 0.4, 1.2]])"
      ]
     },
     "execution_count": 130,
     "metadata": {},
     "output_type": "execute_result"
    }
   ],
   "source": [
    "import numpy as np\n",
    "\n",
    "a = np.array([[0.3,np.nan,3.2],[0.3,0.4,1.2]])\n",
    "a"
   ]
  },
  {
   "cell_type": "code",
   "execution_count": 136,
   "id": "ffccb48a",
   "metadata": {},
   "outputs": [
    {
     "data": {
      "text/plain": [
       "array([[False,  True],\n",
       "       [False, False]])"
      ]
     },
     "execution_count": 136,
     "metadata": {},
     "output_type": "execute_result"
    }
   ],
   "source": [
    "np.isnan(a)[:,:2]"
   ]
  },
  {
   "cell_type": "code",
   "execution_count": null,
   "id": "0af580cb",
   "metadata": {},
   "outputs": [],
   "source": []
  }
 ],
 "metadata": {
  "kernelspec": {
   "display_name": "Python 3",
   "language": "python",
   "name": "python3"
  },
  "language_info": {
   "codemirror_mode": {
    "name": "ipython",
    "version": 3
   },
   "file_extension": ".py",
   "mimetype": "text/x-python",
   "name": "python",
   "nbconvert_exporter": "python",
   "pygments_lexer": "ipython3",
   "version": "3.7.4"
  }
 },
 "nbformat": 4,
 "nbformat_minor": 5
}
