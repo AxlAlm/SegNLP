{
 "cells": [
  {
   "cell_type": "code",
   "execution_count": 1,
   "id": "7a5230e7",
   "metadata": {},
   "outputs": [
    {
     "name": "stderr",
     "output_type": "stream",
     "text": [
      "Using backend: pytorch\n",
      "Global seed set to 42\n"
     ]
    }
   ],
   "source": [
    "from segnlp.resources.chars import CharVocab"
   ]
  },
  {
   "cell_type": "code",
   "execution_count": 2,
   "id": "2d2a429b",
   "metadata": {},
   "outputs": [],
   "source": [
    "char = CharVocab()"
   ]
  },
  {
   "cell_type": "code",
   "execution_count": 3,
   "id": "39580244",
   "metadata": {},
   "outputs": [
    {
     "data": {
      "text/plain": [
       "[tensor([18, 15, 22, 22, 25]),\n",
       " tensor([33, 11, 18, 30]),\n",
       " tensor([19, 29]),\n",
       " tensor([31, 26]),\n",
       " tensor([19, 22, 25, 29, 21, 16, 29, 16, 21, 14, 11, 16])]"
      ]
     },
     "execution_count": 3,
     "metadata": {},
     "output_type": "execute_result"
    }
   ],
   "source": [
    "char[[\"hello\", \"waht\", \"is\", \"up\", \"iloskfsfkdaf\"]]"
   ]
  },
  {
   "cell_type": "code",
   "execution_count": 4,
   "id": "1905917c",
   "metadata": {},
   "outputs": [
    {
     "data": {
      "text/plain": [
       "tensor([[18, 15, 22, 22, 25,  0,  0,  0,  0,  0,  0,  0],\n",
       "        [33, 11, 18, 30,  0,  0,  0,  0,  0,  0,  0,  0],\n",
       "        [19, 29,  0,  0,  0,  0,  0,  0,  0,  0,  0,  0],\n",
       "        [31, 26,  0,  0,  0,  0,  0,  0,  0,  0,  0,  0],\n",
       "        [19, 22, 25, 29, 21, 16, 29, 16, 21, 14, 11, 16],\n",
       "        [22, 25, 22,  0,  0,  0,  0,  0,  0,  0,  0,  0]])"
      ]
     },
     "execution_count": 4,
     "metadata": {},
     "output_type": "execute_result"
    }
   ],
   "source": [
    "import torch\n",
    "x = torch.nn.utils.rnn.pad_sequence(char[[\"hello\", \"waht\", \"is\", \"up\", \"iloskfsfkdaf\", \"lol\"]], batch_first=True)\n",
    "x"
   ]
  },
  {
   "cell_type": "code",
   "execution_count": 5,
   "id": "ae481a3c",
   "metadata": {},
   "outputs": [
    {
     "data": {
      "text/plain": [
       "tensor([[[18, 15, 22, 22, 25,  0,  0,  0,  0,  0,  0,  0],\n",
       "         [33, 11, 18, 30,  0,  0,  0,  0,  0,  0,  0,  0],\n",
       "         [19, 29,  0,  0,  0,  0,  0,  0,  0,  0,  0,  0],\n",
       "         [31, 26,  0,  0,  0,  0,  0,  0,  0,  0,  0,  0]],\n",
       "\n",
       "        [[19, 22, 25, 29, 21, 16, 29, 16, 21, 14, 11, 16],\n",
       "         [22, 25, 22,  0,  0,  0,  0,  0,  0,  0,  0,  0],\n",
       "         [ 0,  0,  0,  0,  0,  0,  0,  0,  0,  0,  0,  0],\n",
       "         [ 0,  0,  0,  0,  0,  0,  0,  0,  0,  0,  0,  0]]])"
      ]
     },
     "execution_count": 5,
     "metadata": {},
     "output_type": "execute_result"
    }
   ],
   "source": [
    "torch.nn.utils.rnn.pad_sequence(torch.split(x,[4,2]), batch_first = True)"
   ]
  },
  {
   "cell_type": "code",
   "execution_count": 6,
   "id": "895c9a73",
   "metadata": {},
   "outputs": [],
   "source": [
    "from torch.nn.utils.rnn import pad_sequence\n",
    "import torch.nn.functional as F\n",
    "import torch\n"
   ]
  },
  {
   "cell_type": "code",
   "execution_count": 7,
   "id": "a956c56e",
   "metadata": {},
   "outputs": [
    {
     "data": {
      "text/plain": [
       "tensor([[   9,    3,   42,    0,    0,    0,    0,    0,    0],\n",
       "        [   0,    2,    0,    0,    0,    0,    0,    0,    0],\n",
       "        [   3, 2222,  323,  212,   32,  321,   32,    2,   32]])"
      ]
     },
     "execution_count": 7,
     "metadata": {},
     "output_type": "execute_result"
    }
   ],
   "source": [
    "l = [\n",
    "    torch.tensor([9,3,42]), \n",
    "    torch.tensor([0,2]), \n",
    "    torch.tensor([3,2222,323,212,32,321,32,2,32])\n",
    "    ]\n",
    "l_p = torch.nn.utils.rnn.pad_sequence(l, batch_first=True)\n",
    "l_p"
   ]
  },
  {
   "cell_type": "code",
   "execution_count": 8,
   "id": "c65cd718",
   "metadata": {},
   "outputs": [
    {
     "data": {
      "text/plain": [
       "tensor([[[9, 1],\n",
       "         [9, 1],\n",
       "         [9, 1],\n",
       "         [0, 0]],\n",
       "\n",
       "        [[9, 1],\n",
       "         [9, 1],\n",
       "         [0, 0],\n",
       "         [0, 0]],\n",
       "\n",
       "        [[9, 1],\n",
       "         [9, 1],\n",
       "         [9, 1],\n",
       "         [9, 1]]])"
      ]
     },
     "execution_count": 8,
     "metadata": {},
     "output_type": "execute_result"
    }
   ],
   "source": [
    "d = [\n",
    "    torch.tensor([[9,1],[9,1],[9,1]]), \n",
    "    torch.tensor([[9,1],[9,1]]), \n",
    "    torch.tensor([[9,1],[9,1],[9,1],[9,1]])\n",
    "    ]\n",
    "d_p = torch.nn.utils.rnn.pad_sequence(d, batch_first=True)\n",
    "d_p"
   ]
  },
  {
   "cell_type": "code",
   "execution_count": 9,
   "id": "6f5358fe",
   "metadata": {},
   "outputs": [
    {
     "ename": "RuntimeError",
     "evalue": "The size of tensor a (9) must match the size of tensor b (2) at non-singleton dimension 2",
     "output_type": "error",
     "traceback": [
      "\u001b[0;31m---------------------------------------------------------------------------\u001b[0m",
      "\u001b[0;31mRuntimeError\u001b[0m                              Traceback (most recent call last)",
      "\u001b[0;32m<ipython-input-9-71440c44a574>\u001b[0m in \u001b[0;36m<module>\u001b[0;34m\u001b[0m\n\u001b[0;32m----> 1\u001b[0;31m \u001b[0mtorch\u001b[0m\u001b[0;34m.\u001b[0m\u001b[0mnn\u001b[0m\u001b[0;34m.\u001b[0m\u001b[0mutils\u001b[0m\u001b[0;34m.\u001b[0m\u001b[0mrnn\u001b[0m\u001b[0;34m.\u001b[0m\u001b[0mpad_sequence\u001b[0m\u001b[0;34m(\u001b[0m\u001b[0;34m(\u001b[0m\u001b[0ml_p\u001b[0m\u001b[0;34m,\u001b[0m \u001b[0md_p\u001b[0m\u001b[0;34m)\u001b[0m\u001b[0;34m,\u001b[0m \u001b[0mbatch_first\u001b[0m\u001b[0;34m=\u001b[0m\u001b[0;32mTrue\u001b[0m\u001b[0;34m)\u001b[0m\u001b[0;34m\u001b[0m\u001b[0;34m\u001b[0m\u001b[0m\n\u001b[0m",
      "\u001b[0;32m~/opt/anaconda3/envs/segnlp/lib/python3.7/site-packages/torch/nn/utils/rnn.py\u001b[0m in \u001b[0;36mpad_sequence\u001b[0;34m(sequences, batch_first, padding_value)\u001b[0m\n\u001b[1;32m    361\u001b[0m     \u001b[0;31m# assuming trailing dimensions and type of all the Tensors\u001b[0m\u001b[0;34m\u001b[0m\u001b[0;34m\u001b[0m\u001b[0;34m\u001b[0m\u001b[0m\n\u001b[1;32m    362\u001b[0m     \u001b[0;31m# in sequences are same and fetching those from sequences[0]\u001b[0m\u001b[0;34m\u001b[0m\u001b[0;34m\u001b[0m\u001b[0;34m\u001b[0m\u001b[0m\n\u001b[0;32m--> 363\u001b[0;31m     \u001b[0;32mreturn\u001b[0m \u001b[0mtorch\u001b[0m\u001b[0;34m.\u001b[0m\u001b[0m_C\u001b[0m\u001b[0;34m.\u001b[0m\u001b[0m_nn\u001b[0m\u001b[0;34m.\u001b[0m\u001b[0mpad_sequence\u001b[0m\u001b[0;34m(\u001b[0m\u001b[0msequences\u001b[0m\u001b[0;34m,\u001b[0m \u001b[0mbatch_first\u001b[0m\u001b[0;34m,\u001b[0m \u001b[0mpadding_value\u001b[0m\u001b[0;34m)\u001b[0m\u001b[0;34m\u001b[0m\u001b[0;34m\u001b[0m\u001b[0m\n\u001b[0m\u001b[1;32m    364\u001b[0m \u001b[0;34m\u001b[0m\u001b[0m\n\u001b[1;32m    365\u001b[0m \u001b[0;34m\u001b[0m\u001b[0m\n",
      "\u001b[0;31mRuntimeError\u001b[0m: The size of tensor a (9) must match the size of tensor b (2) at non-singleton dimension 2"
     ]
    }
   ],
   "source": [
    "torch.nn.utils.rnn.pad_sequence((l_p, d_p), batch_first=True)"
   ]
  },
  {
   "cell_type": "code",
   "execution_count": null,
   "id": "bea13d3f",
   "metadata": {},
   "outputs": [],
   "source": [
    "\n",
    "x = torch.tensor([0,0,0,0,1,1,1,2,3,4,0,0,1,2,0,1,1,1])\n",
    "_, lengths = torch.unique_consecutive(x, return_counts = True)\n",
    "idxs = utils.cumsum_zero(lengths)\n",
    "d = torch.zeros_like(x)\n",
    "d[idxs] = 1\n",
    "d"
   ]
  },
  {
   "cell_type": "code",
   "execution_count": null,
   "id": "4472767f",
   "metadata": {},
   "outputs": [],
   "source": [
    "d = torch.zeros_like(x)\n",
    "d[idxs] = 1\n",
    "d"
   ]
  },
  {
   "cell_type": "code",
   "execution_count": null,
   "id": "7bba527c",
   "metadata": {},
   "outputs": [],
   "source": [
    "z = torch.zeros_like(x)\n",
    "y = z+1\n",
    "y"
   ]
  },
  {
   "cell_type": "code",
   "execution_count": null,
   "id": "53c240b7",
   "metadata": {},
   "outputs": [],
   "source": [
    "x == y"
   ]
  },
  {
   "cell_type": "code",
   "execution_count": null,
   "id": "847d073c",
   "metadata": {},
   "outputs": [],
   "source": [
    "import numpy as np\n",
    "a = np.array([1,2,3,4])\n",
    "b = np.array([4,5,6,7])\n",
    "\n",
    "\n",
    "np.column_stack((a,b))"
   ]
  },
  {
   "cell_type": "code",
   "execution_count": null,
   "id": "86644932",
   "metadata": {},
   "outputs": [],
   "source": [
    "getattr(lol, \"hello\")"
   ]
  },
  {
   "cell_type": "code",
   "execution_count": 12,
   "id": "6a7a4f7b",
   "metadata": {},
   "outputs": [
    {
     "name": "stdout",
     "output_type": "stream",
     "text": [
      "<function Foo.Bar at 0x7f86ac2355f0>\n"
     ]
    }
   ],
   "source": [
    "class Memorize:\n",
    "\n",
    "    def __init__(self, func):\n",
    "        print(func)\n",
    "        self.func = func\n",
    "        self.cache = {}\n",
    "\n",
    "\n",
    "    def __call__(self, *args):\n",
    "\n",
    "        #print(args[1], self.cache)\n",
    "        print(args)\n",
    "        if args[1] in self.cache:\n",
    "            return self.cache[args[1]]\n",
    "        else:\n",
    "            value = self.func(*args)\n",
    "            self.cache[args[1]] = value\n",
    "            return value\n",
    "\n",
    "\n",
    "#    def __repr__(self):\n",
    "#        return self.func.__doc__\n",
    "\n",
    "\n",
    "    def __get__(self, obj, objtype):\n",
    "        print(self.__call__, obj, objtype)\n",
    "        # overrides the __get__ and creates a \n",
    "        return functools.partial(self.__call__, obj)\n",
    "    \n",
    "    \n",
    "    \n",
    "    \n",
    "class Foo:\n",
    "    \n",
    "    @Memorize\n",
    "    def Bar(self, string:str):\n",
    "        return string\n",
    "    \n",
    "    \n",
    "d = Foo()"
   ]
  },
  {
   "cell_type": "code",
   "execution_count": 13,
   "id": "daf7d194",
   "metadata": {},
   "outputs": [
    {
     "name": "stdout",
     "output_type": "stream",
     "text": [
      "<bound method Memorize.__call__ of <__main__.Memorize object at 0x7f86ac268c10>> <__main__.Foo object at 0x7f86ac268c50> <class '__main__.Foo'>\n"
     ]
    },
    {
     "ename": "NameError",
     "evalue": "name 'functools' is not defined",
     "output_type": "error",
     "traceback": [
      "\u001b[0;31m---------------------------------------------------------------------------\u001b[0m",
      "\u001b[0;31mNameError\u001b[0m                                 Traceback (most recent call last)",
      "\u001b[0;32m<ipython-input-13-9f032a2cbcd4>\u001b[0m in \u001b[0;36m<module>\u001b[0;34m\u001b[0m\n\u001b[0;32m----> 1\u001b[0;31m \u001b[0md\u001b[0m\u001b[0;34m.\u001b[0m\u001b[0mBar\u001b[0m\u001b[0;34m(\u001b[0m\u001b[0;34m\"hello\"\u001b[0m\u001b[0;34m)\u001b[0m\u001b[0;34m\u001b[0m\u001b[0;34m\u001b[0m\u001b[0m\n\u001b[0m",
      "\u001b[0;32m<ipython-input-12-392e43183c35>\u001b[0m in \u001b[0;36m__get__\u001b[0;34m(self, obj, objtype)\u001b[0m\n\u001b[1;32m     26\u001b[0m         \u001b[0mprint\u001b[0m\u001b[0;34m(\u001b[0m\u001b[0mself\u001b[0m\u001b[0;34m.\u001b[0m\u001b[0m__call__\u001b[0m\u001b[0;34m,\u001b[0m \u001b[0mobj\u001b[0m\u001b[0;34m,\u001b[0m \u001b[0mobjtype\u001b[0m\u001b[0;34m)\u001b[0m\u001b[0;34m\u001b[0m\u001b[0;34m\u001b[0m\u001b[0m\n\u001b[1;32m     27\u001b[0m         \u001b[0;31m# overrides the __get__ and creates a\u001b[0m\u001b[0;34m\u001b[0m\u001b[0;34m\u001b[0m\u001b[0;34m\u001b[0m\u001b[0m\n\u001b[0;32m---> 28\u001b[0;31m         \u001b[0;32mreturn\u001b[0m \u001b[0mfunctools\u001b[0m\u001b[0;34m.\u001b[0m\u001b[0mpartial\u001b[0m\u001b[0;34m(\u001b[0m\u001b[0mself\u001b[0m\u001b[0;34m.\u001b[0m\u001b[0m__call__\u001b[0m\u001b[0;34m,\u001b[0m \u001b[0mobj\u001b[0m\u001b[0;34m)\u001b[0m\u001b[0;34m\u001b[0m\u001b[0;34m\u001b[0m\u001b[0m\n\u001b[0m\u001b[1;32m     29\u001b[0m \u001b[0;34m\u001b[0m\u001b[0m\n\u001b[1;32m     30\u001b[0m \u001b[0;34m\u001b[0m\u001b[0m\n",
      "\u001b[0;31mNameError\u001b[0m: name 'functools' is not defined"
     ]
    }
   ],
   "source": [
    "d.Bar(\"hello\")"
   ]
  },
  {
   "cell_type": "code",
   "execution_count": null,
   "id": "84114a98",
   "metadata": {},
   "outputs": [],
   "source": []
  },
  {
   "cell_type": "code",
   "execution_count": null,
   "id": "0aa25d57",
   "metadata": {},
   "outputs": [],
   "source": []
  }
 ],
 "metadata": {
  "kernelspec": {
   "display_name": "Python 3",
   "language": "python",
   "name": "python3"
  },
  "language_info": {
   "codemirror_mode": {
    "name": "ipython",
    "version": 3
   },
   "file_extension": ".py",
   "mimetype": "text/x-python",
   "name": "python",
   "nbconvert_exporter": "python",
   "pygments_lexer": "ipython3",
   "version": "3.7.4"
  }
 },
 "nbformat": 4,
 "nbformat_minor": 5
}
