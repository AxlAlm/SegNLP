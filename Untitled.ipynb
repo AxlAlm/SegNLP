{
 "cells": [
  {
   "cell_type": "code",
   "execution_count": 1,
   "id": "7a5230e7",
   "metadata": {},
   "outputs": [
    {
     "name": "stderr",
     "output_type": "stream",
     "text": [
      "Using backend: pytorch\n",
      "Global seed set to 42\n"
     ]
    }
   ],
   "source": [
    "from segnlp.resources.chars import CharVocab"
   ]
  },
  {
   "cell_type": "code",
   "execution_count": 2,
   "id": "2d2a429b",
   "metadata": {},
   "outputs": [],
   "source": [
    "char = CharVocab()"
   ]
  },
  {
   "cell_type": "code",
   "execution_count": 3,
   "id": "39580244",
   "metadata": {},
   "outputs": [
    {
     "data": {
      "text/plain": [
       "[tensor([18, 15, 22, 22, 25]),\n",
       " tensor([33, 11, 18, 30]),\n",
       " tensor([19, 29]),\n",
       " tensor([31, 26]),\n",
       " tensor([19, 22, 25, 29, 21, 16, 29, 16, 21, 14, 11, 16])]"
      ]
     },
     "execution_count": 3,
     "metadata": {},
     "output_type": "execute_result"
    }
   ],
   "source": [
    "char[[\"hello\", \"waht\", \"is\", \"up\", \"iloskfsfkdaf\"]]"
   ]
  },
  {
   "cell_type": "code",
   "execution_count": 4,
   "id": "1905917c",
   "metadata": {},
   "outputs": [
    {
     "data": {
      "text/plain": [
       "tensor([[18, 15, 22, 22, 25,  0,  0,  0,  0,  0,  0,  0],\n",
       "        [33, 11, 18, 30,  0,  0,  0,  0,  0,  0,  0,  0],\n",
       "        [19, 29,  0,  0,  0,  0,  0,  0,  0,  0,  0,  0],\n",
       "        [31, 26,  0,  0,  0,  0,  0,  0,  0,  0,  0,  0],\n",
       "        [19, 22, 25, 29, 21, 16, 29, 16, 21, 14, 11, 16],\n",
       "        [22, 25, 22,  0,  0,  0,  0,  0,  0,  0,  0,  0]])"
      ]
     },
     "execution_count": 4,
     "metadata": {},
     "output_type": "execute_result"
    }
   ],
   "source": [
    "import torch\n",
    "x = torch.nn.utils.rnn.pad_sequence(char[[\"hello\", \"waht\", \"is\", \"up\", \"iloskfsfkdaf\", \"lol\"]], batch_first=True)\n",
    "x"
   ]
  },
  {
   "cell_type": "code",
   "execution_count": 5,
   "id": "ae481a3c",
   "metadata": {},
   "outputs": [
    {
     "data": {
      "text/plain": [
       "tensor([[[18, 15, 22, 22, 25,  0,  0,  0,  0,  0,  0,  0],\n",
       "         [33, 11, 18, 30,  0,  0,  0,  0,  0,  0,  0,  0],\n",
       "         [19, 29,  0,  0,  0,  0,  0,  0,  0,  0,  0,  0],\n",
       "         [31, 26,  0,  0,  0,  0,  0,  0,  0,  0,  0,  0]],\n",
       "\n",
       "        [[19, 22, 25, 29, 21, 16, 29, 16, 21, 14, 11, 16],\n",
       "         [22, 25, 22,  0,  0,  0,  0,  0,  0,  0,  0,  0],\n",
       "         [ 0,  0,  0,  0,  0,  0,  0,  0,  0,  0,  0,  0],\n",
       "         [ 0,  0,  0,  0,  0,  0,  0,  0,  0,  0,  0,  0]]])"
      ]
     },
     "execution_count": 5,
     "metadata": {},
     "output_type": "execute_result"
    }
   ],
   "source": [
    "torch.nn.utils.rnn.pad_sequence(torch.split(x,[4,2]), batch_first = True)"
   ]
  },
  {
   "cell_type": "code",
   "execution_count": 6,
   "id": "895c9a73",
   "metadata": {},
   "outputs": [],
   "source": [
    "from torch.nn.utils.rnn import pad_sequence\n",
    "import torch.nn.functional as F\n",
    "import torch\n"
   ]
  },
  {
   "cell_type": "code",
   "execution_count": 7,
   "id": "a956c56e",
   "metadata": {},
   "outputs": [
    {
     "data": {
      "text/plain": [
       "tensor([[   9,    3,   42,    0,    0,    0,    0,    0,    0],\n",
       "        [   0,    2,    0,    0,    0,    0,    0,    0,    0],\n",
       "        [   3, 2222,  323,  212,   32,  321,   32,    2,   32]])"
      ]
     },
     "execution_count": 7,
     "metadata": {},
     "output_type": "execute_result"
    }
   ],
   "source": [
    "l = [\n",
    "    torch.tensor([9,3,42]), \n",
    "    torch.tensor([0,2]), \n",
    "    torch.tensor([3,2222,323,212,32,321,32,2,32])\n",
    "    ]\n",
    "l_p = torch.nn.utils.rnn.pad_sequence(l, batch_first=True)\n",
    "l_p"
   ]
  },
  {
   "cell_type": "code",
   "execution_count": 8,
   "id": "c65cd718",
   "metadata": {},
   "outputs": [
    {
     "data": {
      "text/plain": [
       "tensor([[[9, 1],\n",
       "         [9, 1],\n",
       "         [9, 1],\n",
       "         [0, 0]],\n",
       "\n",
       "        [[9, 1],\n",
       "         [9, 1],\n",
       "         [0, 0],\n",
       "         [0, 0]],\n",
       "\n",
       "        [[9, 1],\n",
       "         [9, 1],\n",
       "         [9, 1],\n",
       "         [9, 1]]])"
      ]
     },
     "execution_count": 8,
     "metadata": {},
     "output_type": "execute_result"
    }
   ],
   "source": [
    "d = [\n",
    "    torch.tensor([[9,1],[9,1],[9,1]]), \n",
    "    torch.tensor([[9,1],[9,1]]), \n",
    "    torch.tensor([[9,1],[9,1],[9,1],[9,1]])\n",
    "    ]\n",
    "d_p = torch.nn.utils.rnn.pad_sequence(d, batch_first=True)\n",
    "d_p"
   ]
  },
  {
   "cell_type": "code",
   "execution_count": 9,
   "id": "6f5358fe",
   "metadata": {},
   "outputs": [
    {
     "ename": "RuntimeError",
     "evalue": "The size of tensor a (9) must match the size of tensor b (2) at non-singleton dimension 2",
     "output_type": "error",
     "traceback": [
      "\u001b[0;31m---------------------------------------------------------------------------\u001b[0m",
      "\u001b[0;31mRuntimeError\u001b[0m                              Traceback (most recent call last)",
      "\u001b[0;32m<ipython-input-9-71440c44a574>\u001b[0m in \u001b[0;36m<module>\u001b[0;34m\u001b[0m\n\u001b[0;32m----> 1\u001b[0;31m \u001b[0mtorch\u001b[0m\u001b[0;34m.\u001b[0m\u001b[0mnn\u001b[0m\u001b[0;34m.\u001b[0m\u001b[0mutils\u001b[0m\u001b[0;34m.\u001b[0m\u001b[0mrnn\u001b[0m\u001b[0;34m.\u001b[0m\u001b[0mpad_sequence\u001b[0m\u001b[0;34m(\u001b[0m\u001b[0;34m(\u001b[0m\u001b[0ml_p\u001b[0m\u001b[0;34m,\u001b[0m \u001b[0md_p\u001b[0m\u001b[0;34m)\u001b[0m\u001b[0;34m,\u001b[0m \u001b[0mbatch_first\u001b[0m\u001b[0;34m=\u001b[0m\u001b[0;32mTrue\u001b[0m\u001b[0;34m)\u001b[0m\u001b[0;34m\u001b[0m\u001b[0;34m\u001b[0m\u001b[0m\n\u001b[0m",
      "\u001b[0;32m~/opt/anaconda3/envs/segnlp/lib/python3.7/site-packages/torch/nn/utils/rnn.py\u001b[0m in \u001b[0;36mpad_sequence\u001b[0;34m(sequences, batch_first, padding_value)\u001b[0m\n\u001b[1;32m    361\u001b[0m     \u001b[0;31m# assuming trailing dimensions and type of all the Tensors\u001b[0m\u001b[0;34m\u001b[0m\u001b[0;34m\u001b[0m\u001b[0;34m\u001b[0m\u001b[0m\n\u001b[1;32m    362\u001b[0m     \u001b[0;31m# in sequences are same and fetching those from sequences[0]\u001b[0m\u001b[0;34m\u001b[0m\u001b[0;34m\u001b[0m\u001b[0;34m\u001b[0m\u001b[0m\n\u001b[0;32m--> 363\u001b[0;31m     \u001b[0;32mreturn\u001b[0m \u001b[0mtorch\u001b[0m\u001b[0;34m.\u001b[0m\u001b[0m_C\u001b[0m\u001b[0;34m.\u001b[0m\u001b[0m_nn\u001b[0m\u001b[0;34m.\u001b[0m\u001b[0mpad_sequence\u001b[0m\u001b[0;34m(\u001b[0m\u001b[0msequences\u001b[0m\u001b[0;34m,\u001b[0m \u001b[0mbatch_first\u001b[0m\u001b[0;34m,\u001b[0m \u001b[0mpadding_value\u001b[0m\u001b[0;34m)\u001b[0m\u001b[0;34m\u001b[0m\u001b[0;34m\u001b[0m\u001b[0m\n\u001b[0m\u001b[1;32m    364\u001b[0m \u001b[0;34m\u001b[0m\u001b[0m\n\u001b[1;32m    365\u001b[0m \u001b[0;34m\u001b[0m\u001b[0m\n",
      "\u001b[0;31mRuntimeError\u001b[0m: The size of tensor a (9) must match the size of tensor b (2) at non-singleton dimension 2"
     ]
    }
   ],
   "source": [
    "torch.nn.utils.rnn.pad_sequence((l_p, d_p), batch_first=True)"
   ]
  },
  {
   "cell_type": "code",
   "execution_count": null,
   "id": "bea13d3f",
   "metadata": {},
   "outputs": [],
   "source": [
    "\n",
    "x = torch.tensor([0,0,0,0,1,1,1,2,3,4,0,0,1,2,0,1,1,1])\n",
    "_, lengths = torch.unique_consecutive(x, return_counts = True)\n",
    "idxs = utils.cumsum_zero(lengths)\n",
    "d = torch.zeros_like(x)\n",
    "d[idxs] = 1\n",
    "d"
   ]
  },
  {
   "cell_type": "code",
   "execution_count": null,
   "id": "4472767f",
   "metadata": {},
   "outputs": [],
   "source": [
    "d = torch.zeros_like(x)\n",
    "d[idxs] = 1\n",
    "d"
   ]
  },
  {
   "cell_type": "code",
   "execution_count": null,
   "id": "7bba527c",
   "metadata": {},
   "outputs": [],
   "source": [
    "z = torch.zeros_like(x)\n",
    "y = z+1\n",
    "y"
   ]
  },
  {
   "cell_type": "code",
   "execution_count": null,
   "id": "53c240b7",
   "metadata": {},
   "outputs": [],
   "source": [
    "x == y"
   ]
  },
  {
   "cell_type": "code",
   "execution_count": null,
   "id": "847d073c",
   "metadata": {},
   "outputs": [],
   "source": [
    "import numpy as np\n",
    "a = np.array([1,2,3,4])\n",
    "b = np.array([4,5,6,7])\n",
    "\n",
    "\n",
    "np.column_stack((a,b))"
   ]
  },
  {
   "cell_type": "code",
   "execution_count": null,
   "id": "86644932",
   "metadata": {},
   "outputs": [],
   "source": [
    "getattr(lol, \"hello\")"
   ]
  },
  {
   "cell_type": "code",
   "execution_count": 12,
   "id": "6a7a4f7b",
   "metadata": {},
   "outputs": [
    {
     "name": "stdout",
     "output_type": "stream",
     "text": [
      "<function Foo.Bar at 0x7f86ac2355f0>\n"
     ]
    }
   ],
   "source": [
    "class Memorize:\n",
    "\n",
    "    def __init__(self, func):\n",
    "        print(func)\n",
    "        self.func = func\n",
    "        self.cache = {}\n",
    "\n",
    "\n",
    "    def __call__(self, *args):\n",
    "\n",
    "        #print(args[1], self.cache)\n",
    "        print(args)\n",
    "        if args[1] in self.cache:\n",
    "            return self.cache[args[1]]\n",
    "        else:\n",
    "            value = self.func(*args)\n",
    "            self.cache[args[1]] = value\n",
    "            return value\n",
    "\n",
    "\n",
    "#    def __repr__(self):\n",
    "#        return self.func.__doc__\n",
    "\n",
    "\n",
    "    def __get__(self, obj, objtype):\n",
    "        print(self.__call__, obj, objtype)\n",
    "        # overrides the __get__ and creates a \n",
    "        return functools.partial(self.__call__, obj)\n",
    "    \n",
    "    \n",
    "    \n",
    "    \n",
    "class Foo:\n",
    "    \n",
    "    @Memorize\n",
    "    def Bar(self, string:str):\n",
    "        return string\n",
    "    \n",
    "    \n",
    "d = Foo()"
   ]
  },
  {
   "cell_type": "code",
   "execution_count": 13,
   "id": "daf7d194",
   "metadata": {},
   "outputs": [
    {
     "name": "stdout",
     "output_type": "stream",
     "text": [
      "<bound method Memorize.__call__ of <__main__.Memorize object at 0x7f86ac268c10>> <__main__.Foo object at 0x7f86ac268c50> <class '__main__.Foo'>\n"
     ]
    },
    {
     "ename": "NameError",
     "evalue": "name 'functools' is not defined",
     "output_type": "error",
     "traceback": [
      "\u001b[0;31m---------------------------------------------------------------------------\u001b[0m",
      "\u001b[0;31mNameError\u001b[0m                                 Traceback (most recent call last)",
      "\u001b[0;32m<ipython-input-13-9f032a2cbcd4>\u001b[0m in \u001b[0;36m<module>\u001b[0;34m\u001b[0m\n\u001b[0;32m----> 1\u001b[0;31m \u001b[0md\u001b[0m\u001b[0;34m.\u001b[0m\u001b[0mBar\u001b[0m\u001b[0;34m(\u001b[0m\u001b[0;34m\"hello\"\u001b[0m\u001b[0;34m)\u001b[0m\u001b[0;34m\u001b[0m\u001b[0;34m\u001b[0m\u001b[0m\n\u001b[0m",
      "\u001b[0;32m<ipython-input-12-392e43183c35>\u001b[0m in \u001b[0;36m__get__\u001b[0;34m(self, obj, objtype)\u001b[0m\n\u001b[1;32m     26\u001b[0m         \u001b[0mprint\u001b[0m\u001b[0;34m(\u001b[0m\u001b[0mself\u001b[0m\u001b[0;34m.\u001b[0m\u001b[0m__call__\u001b[0m\u001b[0;34m,\u001b[0m \u001b[0mobj\u001b[0m\u001b[0;34m,\u001b[0m \u001b[0mobjtype\u001b[0m\u001b[0;34m)\u001b[0m\u001b[0;34m\u001b[0m\u001b[0;34m\u001b[0m\u001b[0m\n\u001b[1;32m     27\u001b[0m         \u001b[0;31m# overrides the __get__ and creates a\u001b[0m\u001b[0;34m\u001b[0m\u001b[0;34m\u001b[0m\u001b[0;34m\u001b[0m\u001b[0m\n\u001b[0;32m---> 28\u001b[0;31m         \u001b[0;32mreturn\u001b[0m \u001b[0mfunctools\u001b[0m\u001b[0;34m.\u001b[0m\u001b[0mpartial\u001b[0m\u001b[0;34m(\u001b[0m\u001b[0mself\u001b[0m\u001b[0;34m.\u001b[0m\u001b[0m__call__\u001b[0m\u001b[0;34m,\u001b[0m \u001b[0mobj\u001b[0m\u001b[0;34m)\u001b[0m\u001b[0;34m\u001b[0m\u001b[0;34m\u001b[0m\u001b[0m\n\u001b[0m\u001b[1;32m     29\u001b[0m \u001b[0;34m\u001b[0m\u001b[0m\n\u001b[1;32m     30\u001b[0m \u001b[0;34m\u001b[0m\u001b[0m\n",
      "\u001b[0;31mNameError\u001b[0m: name 'functools' is not defined"
     ]
    }
   ],
   "source": [
    "d.Bar(\"hello\")"
   ]
  },
  {
   "cell_type": "code",
   "execution_count": 31,
   "id": "84114a98",
   "metadata": {},
   "outputs": [],
   "source": [
    "import torch\n",
    "from torch import nn\n",
    "import numpy as np"
   ]
  },
  {
   "cell_type": "code",
   "execution_count": 42,
   "id": "e8dc262b",
   "metadata": {},
   "outputs": [],
   "source": [
    "m = nn.Linear(10,10)"
   ]
  },
  {
   "cell_type": "code",
   "execution_count": 47,
   "id": "b5a07f94",
   "metadata": {},
   "outputs": [
    {
     "data": {
      "text/plain": [
       "tensor([[ 0.0093, -0.1644, -0.0523, -0.0877, -0.0774, -0.6287, -0.4005, -0.0972,\n",
       "          0.2656, -0.1483],\n",
       "        [ 0.0717,  0.1081,  0.1876,  0.6063, -0.1514, -0.0183, -0.5452, -0.3134,\n",
       "          0.6183, -0.0207],\n",
       "        [ 0.0463,  0.3591, -0.0850, -0.2886,  0.2171,  0.4947,  0.3204, -0.3632,\n",
       "         -0.2503, -0.1016],\n",
       "        [ 0.1725, -0.4007,  0.1828, -0.0067, -0.0436,  0.0314, -0.0515,  0.0600,\n",
       "         -0.3976,  0.0813],\n",
       "        [-0.3360, -0.2000, -0.1990, -0.5302,  0.2126,  0.6289,  0.2579, -0.4643,\n",
       "          0.5259, -0.4599],\n",
       "        [-0.0732,  0.1755,  0.1026,  0.4723,  0.1851,  0.2403, -0.3205, -0.4402,\n",
       "          0.2801,  0.2897],\n",
       "        [ 0.1534, -0.3275,  0.0513, -0.1093,  0.2441,  0.0053,  0.2151, -0.0411,\n",
       "          0.0308,  0.2516],\n",
       "        [-0.6833, -0.1801, -0.6332, -0.3891,  0.2773, -0.6616,  0.5040,  0.8107,\n",
       "         -0.0401,  0.0732],\n",
       "        [ 0.2506, -0.0973,  0.2138,  0.8477, -0.5742,  0.3519,  0.3705, -0.5433,\n",
       "         -0.1691, -0.4130],\n",
       "        [-0.2924,  0.1965,  0.0621,  0.3379,  0.1534,  0.0019, -0.1066,  0.3324,\n",
       "         -0.4272,  0.1711]])"
      ]
     },
     "execution_count": 47,
     "metadata": {},
     "output_type": "execute_result"
    }
   ],
   "source": [
    "m.weight.data.normal_(0.0, 1/np.sqrt(m.in_features))"
   ]
  },
  {
   "cell_type": "code",
   "execution_count": 121,
   "id": "ae981a08",
   "metadata": {},
   "outputs": [],
   "source": [
    "class MyNN(nn.Module):\n",
    "    \n",
    "    def __init__(self):\n",
    "        super().__init__()\n",
    "        self.l = nn.Linear(5,5)\n",
    "        self.d = nn.Softmax()"
   ]
  },
  {
   "cell_type": "code",
   "execution_count": 136,
   "id": "04bd7209",
   "metadata": {},
   "outputs": [
    {
     "name": "stdout",
     "output_type": "stream",
     "text": [
      "{'a': 0.5}\n",
      "tensor([[-0.3764, -0.9322, -0.8626, -0.3946,  0.4432],\n",
      "        [ 0.5767, -0.6251,  0.1736, -0.1679,  0.0412],\n",
      "        [ 0.2394, -0.2140, -0.2445, -0.4103, -0.7028],\n",
      "        [ 0.8291,  0.7668,  0.8639, -0.7000, -0.0762],\n",
      "        [-0.2977, -0.6703, -0.9455, -0.7627, -0.6534]])\n",
      "tensor([0., 0., 0., 0., 0.])\n"
     ]
    }
   ],
   "source": [
    "from functools import partial\n",
    "\n",
    "\n",
    "def get_weight_init_fn(init_method:str , kwargs:dict = {}):\n",
    "\n",
    "    # https://stackoverflow.com/questions/49433936/how-to-initialize-weights-in-pytorch\n",
    "    # https://towardsdatascience.com/weight-initialization-techniques-in-neural-networks-26c649eb3b78\n",
    "    #init_fn = getattr(nn.init, init_method)\n",
    "    \n",
    "    #print(init_fn)\n",
    "    #return partial(getattr(nn.init, init_method), **kwargs)    \n",
    "    \n",
    "    def fn(m):\n",
    "        \n",
    "        if type(m) != nn.Linear:\n",
    "            return\n",
    "        \n",
    "        if init_method == \"normal\":\n",
    "            kwargs[\"std\"] = 1/np.sqrt(m.in_features)\n",
    "    \n",
    "        \n",
    "        getattr(nn.init, init_method)(m.weight.data, **kwargs)\n",
    "        m.bias.data.fill_(0)\n",
    "\n",
    "        \n",
    "    return fn\n",
    "    \n",
    "f = get_weight_init_fn(\"kaiming_uniform_\", {\"a\":0.5})\n",
    "net = MyNN()\n",
    "net.apply(f)\n",
    "print(net.l.weight.data)\n",
    "print(net.l.bias.data)"
   ]
  },
  {
   "cell_type": "code",
   "execution_count": 103,
   "id": "1d8b1a4a",
   "metadata": {},
   "outputs": [
    {
     "data": {
      "text/plain": [
       "MyNN(\n",
       "  (l): Linear(in_features=10, out_features=10, bias=True)\n",
       ")"
      ]
     },
     "execution_count": 103,
     "metadata": {},
     "output_type": "execute_result"
    }
   ],
   "source": []
  },
  {
   "cell_type": "code",
   "execution_count": 149,
   "id": "152cad3e",
   "metadata": {},
   "outputs": [
    {
     "data": {
      "text/plain": [
       "tensor([0.0136])"
      ]
     },
     "execution_count": 149,
     "metadata": {},
     "output_type": "execute_result"
    }
   ],
   "source": [
    "a = torch.tensor([\n",
    "            1.1506e-02,\n",
    "            -5.9974e-03,\n",
    "            -4.7711e-03,\n",
    "            1.4440e-02,\n",
    "            -1.3132e-04, \n",
    "            4.9885e-03\n",
    "            ])\n",
    "\n",
    "b = torch.tensor([[\n",
    "            -0.54,\n",
    "            -0.3,\n",
    "            -0.75,\n",
    "            1,\n",
    "            0, \n",
    "            0\n",
    "            ]])\n",
    "\n",
    "\n",
    "torch.matmul(b, a)"
   ]
  },
  {
   "cell_type": "code",
   "execution_count": 151,
   "id": "c1a61d61",
   "metadata": {},
   "outputs": [
    {
     "data": {
      "text/html": [
       "<div>\n",
       "<style scoped>\n",
       "    .dataframe tbody tr th:only-of-type {\n",
       "        vertical-align: middle;\n",
       "    }\n",
       "\n",
       "    .dataframe tbody tr th {\n",
       "        vertical-align: top;\n",
       "    }\n",
       "\n",
       "    .dataframe thead th {\n",
       "        text-align: right;\n",
       "    }\n",
       "</style>\n",
       "<table border=\"1\" class=\"dataframe\">\n",
       "  <thead>\n",
       "    <tr style=\"text-align: right;\">\n",
       "      <th></th>\n",
       "      <th>hello</th>\n",
       "      <th>ok</th>\n",
       "    </tr>\n",
       "  </thead>\n",
       "  <tbody>\n",
       "    <tr>\n",
       "      <th>0</th>\n",
       "      <td>bye</td>\n",
       "      <td>no</td>\n",
       "    </tr>\n",
       "    <tr>\n",
       "      <th>1</th>\n",
       "      <td>bye</td>\n",
       "      <td>no</td>\n",
       "    </tr>\n",
       "  </tbody>\n",
       "</table>\n",
       "</div>"
      ],
      "text/plain": [
       "  hello  ok\n",
       "0   bye  no\n",
       "1   bye  no"
      ]
     },
     "execution_count": 151,
     "metadata": {},
     "output_type": "execute_result"
    }
   ],
   "source": [
    "import pandas as pd\n",
    "\n",
    "df = pd.DataFrame({\"hello\":[\"bye\",\"bye\"], \"ok\": [\"no\", \"no\"]})\n",
    "df"
   ]
  },
  {
   "cell_type": "code",
   "execution_count": 155,
   "id": "dd9ad3d3",
   "metadata": {},
   "outputs": [
    {
     "data": {
      "text/html": [
       "<div>\n",
       "<style scoped>\n",
       "    .dataframe tbody tr th:only-of-type {\n",
       "        vertical-align: middle;\n",
       "    }\n",
       "\n",
       "    .dataframe tbody tr th {\n",
       "        vertical-align: top;\n",
       "    }\n",
       "\n",
       "    .dataframe thead th {\n",
       "        text-align: right;\n",
       "    }\n",
       "</style>\n",
       "<table border=\"1\" class=\"dataframe\">\n",
       "  <thead>\n",
       "    <tr style=\"text-align: right;\">\n",
       "      <th></th>\n",
       "      <th></th>\n",
       "      <th>hello</th>\n",
       "      <th>ok</th>\n",
       "    </tr>\n",
       "  </thead>\n",
       "  <tbody>\n",
       "    <tr>\n",
       "      <th rowspan=\"2\" valign=\"top\">TARGET</th>\n",
       "      <th>0</th>\n",
       "      <td>bye</td>\n",
       "      <td>no</td>\n",
       "    </tr>\n",
       "    <tr>\n",
       "      <th>1</th>\n",
       "      <td>bye</td>\n",
       "      <td>no</td>\n",
       "    </tr>\n",
       "    <tr>\n",
       "      <th rowspan=\"2\" valign=\"top\">PRED</th>\n",
       "      <th>0</th>\n",
       "      <td>bye</td>\n",
       "      <td>no</td>\n",
       "    </tr>\n",
       "    <tr>\n",
       "      <th>1</th>\n",
       "      <td>bye</td>\n",
       "      <td>no</td>\n",
       "    </tr>\n",
       "  </tbody>\n",
       "</table>\n",
       "</div>"
      ],
      "text/plain": [
       "         hello  ok\n",
       "TARGET 0   bye  no\n",
       "       1   bye  no\n",
       "PRED   0   bye  no\n",
       "       1   bye  no"
      ]
     },
     "execution_count": 155,
     "metadata": {},
     "output_type": "execute_result"
    }
   ],
   "source": [
    "x = pd.concat((df,df), keys= ['TARGET', 'PRED'], axis=0)\n",
    "x"
   ]
  },
  {
   "cell_type": "code",
   "execution_count": 154,
   "id": "7cadf677",
   "metadata": {},
   "outputs": [
    {
     "data": {
      "text/html": [
       "<div>\n",
       "<style scoped>\n",
       "    .dataframe tbody tr th:only-of-type {\n",
       "        vertical-align: middle;\n",
       "    }\n",
       "\n",
       "    .dataframe tbody tr th {\n",
       "        vertical-align: top;\n",
       "    }\n",
       "\n",
       "    .dataframe thead th {\n",
       "        text-align: right;\n",
       "    }\n",
       "</style>\n",
       "<table border=\"1\" class=\"dataframe\">\n",
       "  <thead>\n",
       "    <tr style=\"text-align: right;\">\n",
       "      <th></th>\n",
       "      <th>hello</th>\n",
       "      <th>ok</th>\n",
       "    </tr>\n",
       "  </thead>\n",
       "  <tbody>\n",
       "    <tr>\n",
       "      <th>0</th>\n",
       "      <td>okok</td>\n",
       "      <td>yes</td>\n",
       "    </tr>\n",
       "    <tr>\n",
       "      <th>1</th>\n",
       "      <td>okok</td>\n",
       "      <td>yes</td>\n",
       "    </tr>\n",
       "  </tbody>\n",
       "</table>\n",
       "</div>"
      ],
      "text/plain": [
       "  hello   ok\n",
       "0  okok  yes\n",
       "1  okok  yes"
      ]
     },
     "execution_count": 154,
     "metadata": {},
     "output_type": "execute_result"
    }
   ],
   "source": [
    "df2 = pd.DataFrame({\"hello\":[\"okok\",\"okok\"], \"ok\": [\"yes\", \"yes\"]})\n",
    "df2"
   ]
  },
  {
   "cell_type": "code",
   "execution_count": 160,
   "id": "5168aed5",
   "metadata": {},
   "outputs": [
    {
     "data": {
      "text/html": [
       "<div>\n",
       "<style scoped>\n",
       "    .dataframe tbody tr th:only-of-type {\n",
       "        vertical-align: middle;\n",
       "    }\n",
       "\n",
       "    .dataframe tbody tr th {\n",
       "        vertical-align: top;\n",
       "    }\n",
       "\n",
       "    .dataframe thead th {\n",
       "        text-align: right;\n",
       "    }\n",
       "</style>\n",
       "<table border=\"1\" class=\"dataframe\">\n",
       "  <thead>\n",
       "    <tr style=\"text-align: right;\">\n",
       "      <th></th>\n",
       "      <th></th>\n",
       "      <th>hello</th>\n",
       "      <th>ok</th>\n",
       "    </tr>\n",
       "  </thead>\n",
       "  <tbody>\n",
       "    <tr>\n",
       "      <th rowspan=\"2\" valign=\"top\">TARGET</th>\n",
       "      <th>0</th>\n",
       "      <td>bye</td>\n",
       "      <td>no</td>\n",
       "    </tr>\n",
       "    <tr>\n",
       "      <th>1</th>\n",
       "      <td>bye</td>\n",
       "      <td>no</td>\n",
       "    </tr>\n",
       "    <tr>\n",
       "      <th rowspan=\"2\" valign=\"top\">PRED</th>\n",
       "      <th>0</th>\n",
       "      <td>okok</td>\n",
       "      <td>yes</td>\n",
       "    </tr>\n",
       "    <tr>\n",
       "      <th>1</th>\n",
       "      <td>okok</td>\n",
       "      <td>yes</td>\n",
       "    </tr>\n",
       "  </tbody>\n",
       "</table>\n",
       "</div>"
      ],
      "text/plain": [
       "         hello   ok\n",
       "TARGET 0   bye   no\n",
       "       1   bye   no\n",
       "PRED   0  okok  yes\n",
       "       1  okok  yes"
      ]
     },
     "execution_count": 160,
     "metadata": {},
     "output_type": "execute_result"
    }
   ],
   "source": [
    "x.loc[\"PRED\"] = df2.values\n",
    "x"
   ]
  },
  {
   "cell_type": "code",
   "execution_count": 161,
   "id": "eb3dc682",
   "metadata": {},
   "outputs": [
    {
     "ename": "TypeError",
     "evalue": "'>' not supported between instances of 'NoneType' and 'int'",
     "output_type": "error",
     "traceback": [
      "\u001b[0;31m---------------------------------------------------------------------------\u001b[0m",
      "\u001b[0;31mTypeError\u001b[0m                                 Traceback (most recent call last)",
      "\u001b[0;32m<ipython-input-161-0112f233f644>\u001b[0m in \u001b[0;36m<module>\u001b[0;34m\u001b[0m\n\u001b[0;32m----> 1\u001b[0;31m \u001b[0mmax\u001b[0m\u001b[0;34m(\u001b[0m\u001b[0;36m0\u001b[0m\u001b[0;34m,\u001b[0m\u001b[0;32mNone\u001b[0m\u001b[0;34m)\u001b[0m\u001b[0;34m\u001b[0m\u001b[0;34m\u001b[0m\u001b[0m\n\u001b[0m",
      "\u001b[0;31mTypeError\u001b[0m: '>' not supported between instances of 'NoneType' and 'int'"
     ]
    }
   ],
   "source": [
    "max(0,None)"
   ]
  },
  {
   "cell_type": "code",
   "execution_count": 162,
   "id": "32700da7",
   "metadata": {},
   "outputs": [
    {
     "data": {
      "text/plain": [
       "[0, 1, 2]"
      ]
     },
     "execution_count": 162,
     "metadata": {},
     "output_type": "execute_result"
    }
   ],
   "source": [
    "l = [0,1,2,3,4,5,6,7,8,9,10]\n",
    "\n",
    "l[0:3]"
   ]
  },
  {
   "cell_type": "code",
   "execution_count": 164,
   "id": "f93bfb7f",
   "metadata": {},
   "outputs": [
    {
     "data": {
      "text/plain": [
       "[3, 4, 5, 6, 7, 8, 9, 10]"
      ]
     },
     "execution_count": 164,
     "metadata": {},
     "output_type": "execute_result"
    }
   ],
   "source": [
    "l[3:11]"
   ]
  },
  {
   "cell_type": "code",
   "execution_count": 165,
   "id": "20abb7ca",
   "metadata": {},
   "outputs": [
    {
     "data": {
      "text/plain": [
       "tensor([[[1., 1.],\n",
       "         [1., 1.],\n",
       "         [1., 1.],\n",
       "         [1., 1.],\n",
       "         [1., 1.]],\n",
       "\n",
       "        [[1., 1.],\n",
       "         [1., 1.],\n",
       "         [1., 1.],\n",
       "         [1., 1.],\n",
       "         [1., 1.]]])"
      ]
     },
     "execution_count": 165,
     "metadata": {},
     "output_type": "execute_result"
    }
   ],
   "source": [
    "\n",
    "\n",
    "\n",
    "d = torch.ones(2,5,2)\n",
    "d"
   ]
  },
  {
   "cell_type": "code",
   "execution_count": 192,
   "id": "9b1d1414",
   "metadata": {},
   "outputs": [
    {
     "data": {
      "text/plain": [
       "tensor([[[1., 1.],\n",
       "         [1., 1.],\n",
       "         [1., 1.],\n",
       "         [1., 1.],\n",
       "         [1., 1.]],\n",
       "\n",
       "        [[1., 1.],\n",
       "         [1., 1.],\n",
       "         [1., 1.],\n",
       "         [1., 1.],\n",
       "         [1., 1.]],\n",
       "\n",
       "        [[0., 0.],\n",
       "         [0., 0.],\n",
       "         [0., 0.],\n",
       "         [0., 0.],\n",
       "         [0., 0.]],\n",
       "\n",
       "        [[0., 0.],\n",
       "         [0., 0.],\n",
       "         [0., 0.],\n",
       "         [0., 0.],\n",
       "         [0., 0.]],\n",
       "\n",
       "        [[0., 0.],\n",
       "         [0., 0.],\n",
       "         [0., 0.],\n",
       "         [0., 0.],\n",
       "         [0., 0.]],\n",
       "\n",
       "        [[0., 0.],\n",
       "         [0., 0.],\n",
       "         [0., 0.],\n",
       "         [0., 0.],\n",
       "         [0., 0.]],\n",
       "\n",
       "        [[0., 0.],\n",
       "         [0., 0.],\n",
       "         [0., 0.],\n",
       "         [0., 0.],\n",
       "         [0., 0.]]])"
      ]
     },
     "execution_count": 192,
     "metadata": {},
     "output_type": "execute_result"
    }
   ],
   "source": [
    "torch.nn.functional.pad(d, (0,0,0,0,0,5), mode='constant', value=0)"
   ]
  },
  {
   "cell_type": "code",
   "execution_count": 198,
   "id": "adabde75",
   "metadata": {},
   "outputs": [
    {
     "data": {
      "text/plain": [
       "tensor(4)"
      ]
     },
     "execution_count": 198,
     "metadata": {},
     "output_type": "execute_result"
    }
   ],
   "source": [
    "t = torch.tensor([1,5])\n",
    "abs(t[0] - t[1])"
   ]
  },
  {
   "cell_type": "code",
   "execution_count": null,
   "id": "2e6bc410",
   "metadata": {},
   "outputs": [],
   "source": []
  }
 ],
 "metadata": {
  "kernelspec": {
   "display_name": "Python 3",
   "language": "python",
   "name": "python3"
  },
  "language_info": {
   "codemirror_mode": {
    "name": "ipython",
    "version": 3
   },
   "file_extension": ".py",
   "mimetype": "text/x-python",
   "name": "python",
   "nbconvert_exporter": "python",
   "pygments_lexer": "ipython3",
   "version": "3.7.4"
  }
 },
 "nbformat": 4,
 "nbformat_minor": 5
}
