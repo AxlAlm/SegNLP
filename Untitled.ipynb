{
 "cells": [
  {
   "cell_type": "code",
   "execution_count": 1,
   "id": "79d62984",
   "metadata": {
    "scrolled": true
   },
   "outputs": [
    {
     "name": "stderr",
     "output_type": "stream",
     "text": [
      "Using backend: pytorch\n",
      "Global seed set to 42\n"
     ]
    },
    {
     "data": {
      "text/plain": [
       "['<UNK>', 'the', ',', '.', 'of', 'and', 'to', 'a', 'in', 'that']"
      ]
     },
     "execution_count": 1,
     "metadata": {},
     "output_type": "execute_result"
    }
   ],
   "source": [
    "from segnlp.resources.vocabs import bnc\n",
    "\n",
    "bnc = bnc()\n",
    "bnc[]"
   ]
  },
  {
   "cell_type": "code",
   "execution_count": 3,
   "id": "7a41c2b3",
   "metadata": {},
   "outputs": [
    {
     "data": {
      "text/plain": [
       "['hamilton',\n",
       " 'labelled',\n",
       " 'honey',\n",
       " 'julie',\n",
       " 'buses',\n",
       " 'thompson',\n",
       " 'twisted',\n",
       " 'racial',\n",
       " 'matrix',\n",
       " 'commissioned',\n",
       " 'hint',\n",
       " 'observers',\n",
       " 'bureau',\n",
       " 'lively',\n",
       " 'aberdeen',\n",
       " 'translation',\n",
       " 'clinic',\n",
       " 'environments',\n",
       " 'desktop',\n",
       " 'strings',\n",
       " 'cab',\n",
       " 'pray',\n",
       " 'interviewed',\n",
       " 'avoiding',\n",
       " 'referendum',\n",
       " 'grabbed',\n",
       " 'valued',\n",
       " 'opponent',\n",
       " 'forcing',\n",
       " 'structured',\n",
       " 'rushed',\n",
       " 'scandal',\n",
       " 'fix',\n",
       " 'imported',\n",
       " 'burned',\n",
       " 'ham',\n",
       " 'slid',\n",
       " 'alike',\n",
       " 'swiss',\n",
       " 'despair',\n",
       " 'evidently',\n",
       " 'passive',\n",
       " 'nest',\n",
       " 'comply',\n",
       " 'borrow',\n",
       " 'thereafter',\n",
       " 'shade',\n",
       " 'terror',\n",
       " 'coastal',\n",
       " 'successor',\n",
       " 'decision-making',\n",
       " '38',\n",
       " 'sequences',\n",
       " 'creates',\n",
       " 'suspension',\n",
       " 'remembering',\n",
       " 'corruption',\n",
       " 'parks',\n",
       " 'supplement',\n",
       " 'salmon',\n",
       " 'mines',\n",
       " 'fortnight',\n",
       " 'appearing',\n",
       " 'en',\n",
       " 'assessing',\n",
       " 'examinations',\n",
       " 'rover',\n",
       " 'enthusiastic',\n",
       " 'rejection',\n",
       " 'julia']"
      ]
     },
     "execution_count": 3,
     "metadata": {},
     "output_type": "execute_result"
    }
   ],
   "source": []
  },
  {
   "cell_type": "code",
   "execution_count": null,
   "id": "a8487896",
   "metadata": {},
   "outputs": [],
   "source": []
  }
 ],
 "metadata": {
  "kernelspec": {
   "display_name": "Python 3",
   "language": "python",
   "name": "python3"
  },
  "language_info": {
   "codemirror_mode": {
    "name": "ipython",
    "version": 3
   },
   "file_extension": ".py",
   "mimetype": "text/x-python",
   "name": "python",
   "nbconvert_exporter": "python",
   "pygments_lexer": "ipython3",
   "version": "3.7.4"
  }
 },
 "nbformat": 4,
 "nbformat_minor": 5
}
